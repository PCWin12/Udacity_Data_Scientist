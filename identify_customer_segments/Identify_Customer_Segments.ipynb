{
 "cells": [
  {
   "cell_type": "markdown",
   "metadata": {},
   "source": [
    "# Project: Identify Customer Segments\n",
    "\n",
    "In this project, you will apply unsupervised learning techniques to identify segments of the population that form the core customer base for a mail-order sales company in Germany. These segments can then be used to direct marketing campaigns towards audiences that will have the highest expected rate of returns. The data that you will use has been provided by our partners at Bertelsmann Arvato Analytics, and represents a real-life data science task.\n",
    "\n",
    "This notebook will help you complete this task by providing a framework within which you will perform your analysis steps. In each step of the project, you will see some text describing the subtask that you will perform, followed by one or more code cells for you to complete your work. **Feel free to add additional code and markdown cells as you go along so that you can explore everything in precise chunks.** The code cells provided in the base template will outline only the major tasks, and will usually not be enough to cover all of the minor tasks that comprise it.\n",
    "\n",
    "It should be noted that while there will be precise guidelines on how you should handle certain tasks in the project, there will also be places where an exact specification is not provided. **There will be times in the project where you will need to make and justify your own decisions on how to treat the data.** These are places where there may not be only one way to handle the data. In real-life tasks, there may be many valid ways to approach an analysis task. One of the most important things you can do is clearly document your approach so that other scientists can understand the decisions you've made.\n",
    "\n",
    "At the end of most sections, there will be a Markdown cell labeled **Discussion**. In these cells, you will report your findings for the completed section, as well as document the decisions that you made in your approach to each subtask. **Your project will be evaluated not just on the code used to complete the tasks outlined, but also your communication about your observations and conclusions at each stage.**"
   ]
  },
  {
   "cell_type": "code",
   "execution_count": 40,
   "metadata": {},
   "outputs": [],
   "source": [
    "# import libraries here; add more as necessary\n",
    "import numpy as np\n",
    "import pandas as pd\n",
    "import matplotlib.pyplot as plt\n",
    "import seaborn as sns\n",
    "import ast\n",
    "from sklearn.preprocessing import Imputer, StandardScaler\n",
    "from sklearn.decomposition import PCA\n",
    "from sklearn.cluster import KMeans\n",
    "from collections import Counter\n",
    "\n",
    "# magic word for producing visualizations in notebook\n",
    "%matplotlib inline"
   ]
  },
  {
   "cell_type": "markdown",
   "metadata": {},
   "source": [
    "### Step 0: Load the Data\n",
    "\n",
    "There are four files associated with this project (not including this one):\n",
    "\n",
    "- `Udacity_AZDIAS_Subset.csv`: Demographics data for the general population of Germany; 891211 persons (rows) x 85 features (columns).\n",
    "- `Udacity_CUSTOMERS_Subset.csv`: Demographics data for customers of a mail-order company; 191652 persons (rows) x 85 features (columns).\n",
    "- `Data_Dictionary.md`: Detailed information file about the features in the provided datasets.\n",
    "- `AZDIAS_Feature_Summary.csv`: Summary of feature attributes for demographics data; 85 features (rows) x 4 columns\n",
    "\n",
    "Each row of the demographics files represents a single person, but also includes information outside of individuals, including information about their household, building, and neighborhood. You will use this information to cluster the general population into groups with similar demographic properties. Then, you will see how the people in the customers dataset fit into those created clusters. The hope here is that certain clusters are over-represented in the customers data, as compared to the general population; those over-represented clusters will be assumed to be part of the core userbase. This information can then be used for further applications, such as targeting for a marketing campaign.\n",
    "\n",
    "To start off with, load in the demographics data for the general population into a pandas DataFrame, and do the same for the feature attributes summary. Note for all of the `.csv` data files in this project: they're semicolon (`;`) delimited, so you'll need an additional argument in your [`read_csv()`](https://pandas.pydata.org/pandas-docs/stable/generated/pandas.read_csv.html) call to read in the data properly. Also, considering the size of the main dataset, it may take some time for it to load completely.\n",
    "\n",
    "Once the dataset is loaded, it's recommended that you take a little bit of time just browsing the general structure of the dataset and feature summary file. You'll be getting deep into the innards of the cleaning in the first major step of the project, so gaining some general familiarity can help you get your bearings."
   ]
  },
  {
   "cell_type": "code",
   "execution_count": 41,
   "metadata": {},
   "outputs": [],
   "source": [
    "# Load in the general demographics data.\n",
    "azdias = pd.read_csv('Udacity_AZDIAS_Subset.csv',sep=';')\n",
    "\n",
    "# Load in the feature summary file.\n",
    "feat_info = pd.read_csv('AZDIAS_Feature_Summary.csv',sep=';')"
   ]
  },
  {
   "cell_type": "code",
   "execution_count": 42,
   "metadata": {
    "scrolled": false
   },
   "outputs": [
    {
     "name": "stdout",
     "output_type": "stream",
     "text": [
      "(891221, 85)\n"
     ]
    },
    {
     "data": {
      "text/html": [
       "<div>\n",
       "<style>\n",
       "    .dataframe thead tr:only-child th {\n",
       "        text-align: right;\n",
       "    }\n",
       "\n",
       "    .dataframe thead th {\n",
       "        text-align: left;\n",
       "    }\n",
       "\n",
       "    .dataframe tbody tr th {\n",
       "        vertical-align: top;\n",
       "    }\n",
       "</style>\n",
       "<table border=\"1\" class=\"dataframe\">\n",
       "  <thead>\n",
       "    <tr style=\"text-align: right;\">\n",
       "      <th></th>\n",
       "      <th>AGER_TYP</th>\n",
       "      <th>ALTERSKATEGORIE_GROB</th>\n",
       "      <th>ANREDE_KZ</th>\n",
       "      <th>CJT_GESAMTTYP</th>\n",
       "      <th>FINANZ_MINIMALIST</th>\n",
       "      <th>FINANZ_SPARER</th>\n",
       "      <th>FINANZ_VORSORGER</th>\n",
       "      <th>FINANZ_ANLEGER</th>\n",
       "      <th>FINANZ_UNAUFFAELLIGER</th>\n",
       "      <th>FINANZ_HAUSBAUER</th>\n",
       "      <th>...</th>\n",
       "      <th>PLZ8_ANTG1</th>\n",
       "      <th>PLZ8_ANTG2</th>\n",
       "      <th>PLZ8_ANTG3</th>\n",
       "      <th>PLZ8_ANTG4</th>\n",
       "      <th>PLZ8_BAUMAX</th>\n",
       "      <th>PLZ8_HHZ</th>\n",
       "      <th>PLZ8_GBZ</th>\n",
       "      <th>ARBEIT</th>\n",
       "      <th>ORTSGR_KLS9</th>\n",
       "      <th>RELAT_AB</th>\n",
       "    </tr>\n",
       "  </thead>\n",
       "  <tbody>\n",
       "    <tr>\n",
       "      <th>0</th>\n",
       "      <td>-1</td>\n",
       "      <td>2</td>\n",
       "      <td>1</td>\n",
       "      <td>2.0</td>\n",
       "      <td>3</td>\n",
       "      <td>4</td>\n",
       "      <td>3</td>\n",
       "      <td>5</td>\n",
       "      <td>5</td>\n",
       "      <td>3</td>\n",
       "      <td>...</td>\n",
       "      <td>NaN</td>\n",
       "      <td>NaN</td>\n",
       "      <td>NaN</td>\n",
       "      <td>NaN</td>\n",
       "      <td>NaN</td>\n",
       "      <td>NaN</td>\n",
       "      <td>NaN</td>\n",
       "      <td>NaN</td>\n",
       "      <td>NaN</td>\n",
       "      <td>NaN</td>\n",
       "    </tr>\n",
       "    <tr>\n",
       "      <th>1</th>\n",
       "      <td>-1</td>\n",
       "      <td>1</td>\n",
       "      <td>2</td>\n",
       "      <td>5.0</td>\n",
       "      <td>1</td>\n",
       "      <td>5</td>\n",
       "      <td>2</td>\n",
       "      <td>5</td>\n",
       "      <td>4</td>\n",
       "      <td>5</td>\n",
       "      <td>...</td>\n",
       "      <td>2.0</td>\n",
       "      <td>3.0</td>\n",
       "      <td>2.0</td>\n",
       "      <td>1.0</td>\n",
       "      <td>1.0</td>\n",
       "      <td>5.0</td>\n",
       "      <td>4.0</td>\n",
       "      <td>3.0</td>\n",
       "      <td>5.0</td>\n",
       "      <td>4.0</td>\n",
       "    </tr>\n",
       "    <tr>\n",
       "      <th>2</th>\n",
       "      <td>-1</td>\n",
       "      <td>3</td>\n",
       "      <td>2</td>\n",
       "      <td>3.0</td>\n",
       "      <td>1</td>\n",
       "      <td>4</td>\n",
       "      <td>1</td>\n",
       "      <td>2</td>\n",
       "      <td>3</td>\n",
       "      <td>5</td>\n",
       "      <td>...</td>\n",
       "      <td>3.0</td>\n",
       "      <td>3.0</td>\n",
       "      <td>1.0</td>\n",
       "      <td>0.0</td>\n",
       "      <td>1.0</td>\n",
       "      <td>4.0</td>\n",
       "      <td>4.0</td>\n",
       "      <td>3.0</td>\n",
       "      <td>5.0</td>\n",
       "      <td>2.0</td>\n",
       "    </tr>\n",
       "    <tr>\n",
       "      <th>3</th>\n",
       "      <td>2</td>\n",
       "      <td>4</td>\n",
       "      <td>2</td>\n",
       "      <td>2.0</td>\n",
       "      <td>4</td>\n",
       "      <td>2</td>\n",
       "      <td>5</td>\n",
       "      <td>2</td>\n",
       "      <td>1</td>\n",
       "      <td>2</td>\n",
       "      <td>...</td>\n",
       "      <td>2.0</td>\n",
       "      <td>2.0</td>\n",
       "      <td>2.0</td>\n",
       "      <td>0.0</td>\n",
       "      <td>1.0</td>\n",
       "      <td>3.0</td>\n",
       "      <td>4.0</td>\n",
       "      <td>2.0</td>\n",
       "      <td>3.0</td>\n",
       "      <td>3.0</td>\n",
       "    </tr>\n",
       "    <tr>\n",
       "      <th>4</th>\n",
       "      <td>-1</td>\n",
       "      <td>3</td>\n",
       "      <td>1</td>\n",
       "      <td>5.0</td>\n",
       "      <td>4</td>\n",
       "      <td>3</td>\n",
       "      <td>4</td>\n",
       "      <td>1</td>\n",
       "      <td>3</td>\n",
       "      <td>2</td>\n",
       "      <td>...</td>\n",
       "      <td>2.0</td>\n",
       "      <td>4.0</td>\n",
       "      <td>2.0</td>\n",
       "      <td>1.0</td>\n",
       "      <td>2.0</td>\n",
       "      <td>3.0</td>\n",
       "      <td>3.0</td>\n",
       "      <td>4.0</td>\n",
       "      <td>6.0</td>\n",
       "      <td>5.0</td>\n",
       "    </tr>\n",
       "  </tbody>\n",
       "</table>\n",
       "<p>5 rows × 85 columns</p>\n",
       "</div>"
      ],
      "text/plain": [
       "   AGER_TYP  ALTERSKATEGORIE_GROB  ANREDE_KZ  CJT_GESAMTTYP  \\\n",
       "0        -1                     2          1            2.0   \n",
       "1        -1                     1          2            5.0   \n",
       "2        -1                     3          2            3.0   \n",
       "3         2                     4          2            2.0   \n",
       "4        -1                     3          1            5.0   \n",
       "\n",
       "   FINANZ_MINIMALIST  FINANZ_SPARER  FINANZ_VORSORGER  FINANZ_ANLEGER  \\\n",
       "0                  3              4                 3               5   \n",
       "1                  1              5                 2               5   \n",
       "2                  1              4                 1               2   \n",
       "3                  4              2                 5               2   \n",
       "4                  4              3                 4               1   \n",
       "\n",
       "   FINANZ_UNAUFFAELLIGER  FINANZ_HAUSBAUER    ...     PLZ8_ANTG1  PLZ8_ANTG2  \\\n",
       "0                      5                 3    ...            NaN         NaN   \n",
       "1                      4                 5    ...            2.0         3.0   \n",
       "2                      3                 5    ...            3.0         3.0   \n",
       "3                      1                 2    ...            2.0         2.0   \n",
       "4                      3                 2    ...            2.0         4.0   \n",
       "\n",
       "   PLZ8_ANTG3  PLZ8_ANTG4  PLZ8_BAUMAX  PLZ8_HHZ  PLZ8_GBZ  ARBEIT  \\\n",
       "0         NaN         NaN          NaN       NaN       NaN     NaN   \n",
       "1         2.0         1.0          1.0       5.0       4.0     3.0   \n",
       "2         1.0         0.0          1.0       4.0       4.0     3.0   \n",
       "3         2.0         0.0          1.0       3.0       4.0     2.0   \n",
       "4         2.0         1.0          2.0       3.0       3.0     4.0   \n",
       "\n",
       "   ORTSGR_KLS9  RELAT_AB  \n",
       "0          NaN       NaN  \n",
       "1          5.0       4.0  \n",
       "2          5.0       2.0  \n",
       "3          3.0       3.0  \n",
       "4          6.0       5.0  \n",
       "\n",
       "[5 rows x 85 columns]"
      ]
     },
     "execution_count": 42,
     "metadata": {},
     "output_type": "execute_result"
    }
   ],
   "source": [
    "# Check the structure of the data after it's loaded (e.g. print the number of\n",
    "# rows and columns, print the first few rows).\n",
    "print(azdias.shape)\n",
    "azdias.head()"
   ]
  },
  {
   "cell_type": "code",
   "execution_count": 43,
   "metadata": {
    "scrolled": false
   },
   "outputs": [
    {
     "name": "stdout",
     "output_type": "stream",
     "text": [
      "(85, 4)\n"
     ]
    },
    {
     "data": {
      "text/html": [
       "<div>\n",
       "<style>\n",
       "    .dataframe thead tr:only-child th {\n",
       "        text-align: right;\n",
       "    }\n",
       "\n",
       "    .dataframe thead th {\n",
       "        text-align: left;\n",
       "    }\n",
       "\n",
       "    .dataframe tbody tr th {\n",
       "        vertical-align: top;\n",
       "    }\n",
       "</style>\n",
       "<table border=\"1\" class=\"dataframe\">\n",
       "  <thead>\n",
       "    <tr style=\"text-align: right;\">\n",
       "      <th></th>\n",
       "      <th>attribute</th>\n",
       "      <th>information_level</th>\n",
       "      <th>type</th>\n",
       "      <th>missing_or_unknown</th>\n",
       "    </tr>\n",
       "  </thead>\n",
       "  <tbody>\n",
       "    <tr>\n",
       "      <th>0</th>\n",
       "      <td>AGER_TYP</td>\n",
       "      <td>person</td>\n",
       "      <td>categorical</td>\n",
       "      <td>[-1,0]</td>\n",
       "    </tr>\n",
       "    <tr>\n",
       "      <th>1</th>\n",
       "      <td>ALTERSKATEGORIE_GROB</td>\n",
       "      <td>person</td>\n",
       "      <td>ordinal</td>\n",
       "      <td>[-1,0,9]</td>\n",
       "    </tr>\n",
       "    <tr>\n",
       "      <th>2</th>\n",
       "      <td>ANREDE_KZ</td>\n",
       "      <td>person</td>\n",
       "      <td>categorical</td>\n",
       "      <td>[-1,0]</td>\n",
       "    </tr>\n",
       "    <tr>\n",
       "      <th>3</th>\n",
       "      <td>CJT_GESAMTTYP</td>\n",
       "      <td>person</td>\n",
       "      <td>categorical</td>\n",
       "      <td>[0]</td>\n",
       "    </tr>\n",
       "    <tr>\n",
       "      <th>4</th>\n",
       "      <td>FINANZ_MINIMALIST</td>\n",
       "      <td>person</td>\n",
       "      <td>ordinal</td>\n",
       "      <td>[-1]</td>\n",
       "    </tr>\n",
       "  </tbody>\n",
       "</table>\n",
       "</div>"
      ],
      "text/plain": [
       "              attribute information_level         type missing_or_unknown\n",
       "0              AGER_TYP            person  categorical             [-1,0]\n",
       "1  ALTERSKATEGORIE_GROB            person      ordinal           [-1,0,9]\n",
       "2             ANREDE_KZ            person  categorical             [-1,0]\n",
       "3         CJT_GESAMTTYP            person  categorical                [0]\n",
       "4     FINANZ_MINIMALIST            person      ordinal               [-1]"
      ]
     },
     "execution_count": 43,
     "metadata": {},
     "output_type": "execute_result"
    }
   ],
   "source": [
    "print(feat_info.shape)\n",
    "feat_info.head()"
   ]
  },
  {
   "cell_type": "markdown",
   "metadata": {},
   "source": [
    "> **Tip**: Add additional cells to keep everything in reasonably-sized chunks! Keyboard shortcut `esc --> a` (press escape to enter command mode, then press the 'A' key) adds a new cell before the active cell, and `esc --> b` adds a new cell after the active cell. If you need to convert an active cell to a markdown cell, use `esc --> m` and to convert to a code cell, use `esc --> y`. \n",
    "\n",
    "## Step 1: Preprocessing\n",
    "\n",
    "### Step 1.1: Assess Missing Data\n",
    "\n",
    "The feature summary file contains a summary of properties for each demographics data column. You will use this file to help you make cleaning decisions during this stage of the project. First of all, you should assess the demographics data in terms of missing data. Pay attention to the following points as you perform your analysis, and take notes on what you observe. Make sure that you fill in the **Discussion** cell with your findings and decisions at the end of each step that has one!\n",
    "\n",
    "#### Step 1.1.1: Convert Missing Value Codes to NaNs\n",
    "The fourth column of the feature attributes summary (loaded in above as `feat_info`) documents the codes from the data dictionary that indicate missing or unknown data. While the file encodes this as a list (e.g. `[-1,0]`), this will get read in as a string object. You'll need to do a little bit of parsing to make use of it to identify and clean the data. Convert data that matches a 'missing' or 'unknown' value code into a numpy NaN value. You might want to see how much data takes on a 'missing' or 'unknown' code, and how much data is naturally missing, as a point of interest.\n",
    "\n",
    "**As one more reminder, you are encouraged to add additional cells to break up your analysis into manageable chunks.**"
   ]
  },
  {
   "cell_type": "code",
   "execution_count": 44,
   "metadata": {},
   "outputs": [
    {
     "name": "stdout",
     "output_type": "stream",
     "text": [
      "Naturally missing data porcentage is 6.464149613118342 %\n"
     ]
    }
   ],
   "source": [
    "# Identify missing or unknown data values and convert them to NaNs.\n",
    "\n",
    "# Identify naturally missing data porcentage\n",
    "element_count = 0\n",
    "for i in azdias.count():\n",
    "    element_count = element_count + i\n",
    "print (\"Naturally missing data porcentage is {} %\".format(100*(1-element_count/azdias.size)))"
   ]
  },
  {
   "cell_type": "code",
   "execution_count": 45,
   "metadata": {},
   "outputs": [],
   "source": [
    "# Method to obtain list of 'missing' or 'unknown'\n",
    "def create_x_list(x):\n",
    "    x = x.strip('[]')\n",
    "    x_list = x.split(\",\")\n",
    "    i = 0\n",
    "    for value in x_list:\n",
    "        if(is_integer(value)):\n",
    "            x_list[i] = int(x_list[i]) \n",
    "        i = i + 1\n",
    "    x_list=[item for item in x_list if item != '']\n",
    "    return x_list"
   ]
  },
  {
   "cell_type": "code",
   "execution_count": 46,
   "metadata": {},
   "outputs": [],
   "source": [
    "# Method to check if value is integer\n",
    "def is_integer(value):\n",
    "    try:\n",
    "        int(value)\n",
    "        return True\n",
    "    except:\n",
    "        return False"
   ]
  },
  {
   "cell_type": "code",
   "execution_count": 47,
   "metadata": {
    "scrolled": false
   },
   "outputs": [],
   "source": [
    "# Convert data that matches a 'missing' or 'unknown' value code into NaN\n",
    "for column in azdias:\n",
    "    tmp = feat_info.loc[(feat_info['attribute'] == column)]['missing_or_unknown']\n",
    "    for item in tmp:\n",
    "        x_list = create_x_list(item)\n",
    "    for element in x_list:\n",
    "        azdias.loc[azdias[column] == element, column] = np.NAN"
   ]
  },
  {
   "cell_type": "code",
   "execution_count": 48,
   "metadata": {},
   "outputs": [
    {
     "name": "stdout",
     "output_type": "stream",
     "text": [
      "Missing data porcentage is 11.054139407027652 %\n"
     ]
    }
   ],
   "source": [
    "# Identify missing data porcentage after replacing 'missing' or 'unknown' value codes\n",
    "element_count = 0\n",
    "for i in azdias.count():\n",
    "    element_count = element_count + i\n",
    "print (\"Missing data porcentage is {} %\".format(100*(1-element_count/azdias.size)))"
   ]
  },
  {
   "cell_type": "markdown",
   "metadata": {},
   "source": [
    "#### Step 1.1.2: Assess Missing Data in Each Column\n",
    "\n",
    "How much missing data is present in each column? There are a few columns that are outliers in terms of the proportion of values that are missing. You will want to use matplotlib's [`hist()`](https://matplotlib.org/api/_as_gen/matplotlib.pyplot.hist.html) function to visualize the distribution of missing value counts to find these columns. Identify and document these columns. While some of these columns might have justifications for keeping or re-encoding the data, for this project you should just remove them from the dataframe. (Feel free to make remarks about these outlier columns in the discussion, however!)\n",
    "\n",
    "For the remaining features, are there any patterns in which columns have, or share, missing data?"
   ]
  },
  {
   "cell_type": "code",
   "execution_count": 49,
   "metadata": {},
   "outputs": [],
   "source": [
    "# Perform an assessment of how much missing data there is in each column of the\n",
    "# dataset.\n",
    "\n",
    "# Create dictionary of number of NaN elements for each column\n",
    "nan_dict = {}\n",
    "i=0\n",
    "for column in azdias:\n",
    "    #print(\"column {}\".format(i))\n",
    "    nan_count = len(azdias[column])-azdias[column].count()\n",
    "    nan_dict.update({column:nan_count})\n",
    "    i=i+1\n",
    "#print(nan_dict)"
   ]
  },
  {
   "cell_type": "code",
   "execution_count": 50,
   "metadata": {
    "scrolled": true
   },
   "outputs": [
    {
     "data": {
      "image/png": "[encoded data removed]",
      "text/plain": [
       "<matplotlib.figure.Figure at 0x7fda0e3ec0b8>"
      ]
     },
     "metadata": {},
     "output_type": "display_data"
    }
   ],
   "source": [
    "# Investigate patterns in the amount of missing data in each column.\n",
    "plt.figure(figsize=(20,6))\n",
    "plt.hist(nan_dict.values(), color='g',bins=30)\n",
    "plt.show()"
   ]
  },
  {
   "cell_type": "code",
   "execution_count": 51,
   "metadata": {},
   "outputs": [
    {
     "data": {
      "image/png": "[encoded data removed]",
      "text/plain": [
       "<matplotlib.figure.Figure at 0x7fda0e4208d0>"
      ]
     },
     "metadata": {},
     "output_type": "display_data"
    }
   ],
   "source": [
    "# Print number of missing values per column\n",
    "plt.figure(figsize=(20,6))\n",
    "x=range(0,azdias.shape[1])\n",
    "plt.bar(x,nan_dict.values(), color='g')\n",
    "plt.show()"
   ]
  },
  {
   "cell_type": "code",
   "execution_count": 52,
   "metadata": {},
   "outputs": [
    {
     "name": "stdout",
     "output_type": "stream",
     "text": [
      "['AGER_TYP', 'GEBURTSJAHR', 'TITEL_KZ', 'ALTER_HH', 'KK_KUNDENTYP', 'KBA05_BAUMAX']\n"
     ]
    },
    {
     "data": {
      "text/html": [
       "<div>\n",
       "<style>\n",
       "    .dataframe thead tr:only-child th {\n",
       "        text-align: right;\n",
       "    }\n",
       "\n",
       "    .dataframe thead th {\n",
       "        text-align: left;\n",
       "    }\n",
       "\n",
       "    .dataframe tbody tr th {\n",
       "        vertical-align: top;\n",
       "    }\n",
       "</style>\n",
       "<table border=\"1\" class=\"dataframe\">\n",
       "  <thead>\n",
       "    <tr style=\"text-align: right;\">\n",
       "      <th></th>\n",
       "      <th>ALTERSKATEGORIE_GROB</th>\n",
       "      <th>ANREDE_KZ</th>\n",
       "      <th>CJT_GESAMTTYP</th>\n",
       "      <th>FINANZ_MINIMALIST</th>\n",
       "      <th>FINANZ_SPARER</th>\n",
       "      <th>FINANZ_VORSORGER</th>\n",
       "      <th>FINANZ_ANLEGER</th>\n",
       "      <th>FINANZ_UNAUFFAELLIGER</th>\n",
       "      <th>FINANZ_HAUSBAUER</th>\n",
       "      <th>FINANZTYP</th>\n",
       "      <th>...</th>\n",
       "      <th>PLZ8_ANTG1</th>\n",
       "      <th>PLZ8_ANTG2</th>\n",
       "      <th>PLZ8_ANTG3</th>\n",
       "      <th>PLZ8_ANTG4</th>\n",
       "      <th>PLZ8_BAUMAX</th>\n",
       "      <th>PLZ8_HHZ</th>\n",
       "      <th>PLZ8_GBZ</th>\n",
       "      <th>ARBEIT</th>\n",
       "      <th>ORTSGR_KLS9</th>\n",
       "      <th>RELAT_AB</th>\n",
       "    </tr>\n",
       "  </thead>\n",
       "  <tbody>\n",
       "    <tr>\n",
       "      <th>0</th>\n",
       "      <td>2.0</td>\n",
       "      <td>1.0</td>\n",
       "      <td>2.0</td>\n",
       "      <td>3.0</td>\n",
       "      <td>4.0</td>\n",
       "      <td>3.0</td>\n",
       "      <td>5.0</td>\n",
       "      <td>5.0</td>\n",
       "      <td>3.0</td>\n",
       "      <td>4.0</td>\n",
       "      <td>...</td>\n",
       "      <td>NaN</td>\n",
       "      <td>NaN</td>\n",
       "      <td>NaN</td>\n",
       "      <td>NaN</td>\n",
       "      <td>NaN</td>\n",
       "      <td>NaN</td>\n",
       "      <td>NaN</td>\n",
       "      <td>NaN</td>\n",
       "      <td>NaN</td>\n",
       "      <td>NaN</td>\n",
       "    </tr>\n",
       "    <tr>\n",
       "      <th>1</th>\n",
       "      <td>1.0</td>\n",
       "      <td>2.0</td>\n",
       "      <td>5.0</td>\n",
       "      <td>1.0</td>\n",
       "      <td>5.0</td>\n",
       "      <td>2.0</td>\n",
       "      <td>5.0</td>\n",
       "      <td>4.0</td>\n",
       "      <td>5.0</td>\n",
       "      <td>1.0</td>\n",
       "      <td>...</td>\n",
       "      <td>2.0</td>\n",
       "      <td>3.0</td>\n",
       "      <td>2.0</td>\n",
       "      <td>1.0</td>\n",
       "      <td>1.0</td>\n",
       "      <td>5.0</td>\n",
       "      <td>4.0</td>\n",
       "      <td>3.0</td>\n",
       "      <td>5.0</td>\n",
       "      <td>4.0</td>\n",
       "    </tr>\n",
       "    <tr>\n",
       "      <th>2</th>\n",
       "      <td>3.0</td>\n",
       "      <td>2.0</td>\n",
       "      <td>3.0</td>\n",
       "      <td>1.0</td>\n",
       "      <td>4.0</td>\n",
       "      <td>1.0</td>\n",
       "      <td>2.0</td>\n",
       "      <td>3.0</td>\n",
       "      <td>5.0</td>\n",
       "      <td>1.0</td>\n",
       "      <td>...</td>\n",
       "      <td>3.0</td>\n",
       "      <td>3.0</td>\n",
       "      <td>1.0</td>\n",
       "      <td>0.0</td>\n",
       "      <td>1.0</td>\n",
       "      <td>4.0</td>\n",
       "      <td>4.0</td>\n",
       "      <td>3.0</td>\n",
       "      <td>5.0</td>\n",
       "      <td>2.0</td>\n",
       "    </tr>\n",
       "    <tr>\n",
       "      <th>3</th>\n",
       "      <td>4.0</td>\n",
       "      <td>2.0</td>\n",
       "      <td>2.0</td>\n",
       "      <td>4.0</td>\n",
       "      <td>2.0</td>\n",
       "      <td>5.0</td>\n",
       "      <td>2.0</td>\n",
       "      <td>1.0</td>\n",
       "      <td>2.0</td>\n",
       "      <td>6.0</td>\n",
       "      <td>...</td>\n",
       "      <td>2.0</td>\n",
       "      <td>2.0</td>\n",
       "      <td>2.0</td>\n",
       "      <td>0.0</td>\n",
       "      <td>1.0</td>\n",
       "      <td>3.0</td>\n",
       "      <td>4.0</td>\n",
       "      <td>2.0</td>\n",
       "      <td>3.0</td>\n",
       "      <td>3.0</td>\n",
       "    </tr>\n",
       "    <tr>\n",
       "      <th>4</th>\n",
       "      <td>3.0</td>\n",
       "      <td>1.0</td>\n",
       "      <td>5.0</td>\n",
       "      <td>4.0</td>\n",
       "      <td>3.0</td>\n",
       "      <td>4.0</td>\n",
       "      <td>1.0</td>\n",
       "      <td>3.0</td>\n",
       "      <td>2.0</td>\n",
       "      <td>5.0</td>\n",
       "      <td>...</td>\n",
       "      <td>2.0</td>\n",
       "      <td>4.0</td>\n",
       "      <td>2.0</td>\n",
       "      <td>1.0</td>\n",
       "      <td>2.0</td>\n",
       "      <td>3.0</td>\n",
       "      <td>3.0</td>\n",
       "      <td>4.0</td>\n",
       "      <td>6.0</td>\n",
       "      <td>5.0</td>\n",
       "    </tr>\n",
       "  </tbody>\n",
       "</table>\n",
       "<p>5 rows × 79 columns</p>\n",
       "</div>"
      ],
      "text/plain": [
       "   ALTERSKATEGORIE_GROB  ANREDE_KZ  CJT_GESAMTTYP  FINANZ_MINIMALIST  \\\n",
       "0                   2.0        1.0            2.0                3.0   \n",
       "1                   1.0        2.0            5.0                1.0   \n",
       "2                   3.0        2.0            3.0                1.0   \n",
       "3                   4.0        2.0            2.0                4.0   \n",
       "4                   3.0        1.0            5.0                4.0   \n",
       "\n",
       "   FINANZ_SPARER  FINANZ_VORSORGER  FINANZ_ANLEGER  FINANZ_UNAUFFAELLIGER  \\\n",
       "0            4.0               3.0             5.0                    5.0   \n",
       "1            5.0               2.0             5.0                    4.0   \n",
       "2            4.0               1.0             2.0                    3.0   \n",
       "3            2.0               5.0             2.0                    1.0   \n",
       "4            3.0               4.0             1.0                    3.0   \n",
       "\n",
       "   FINANZ_HAUSBAUER  FINANZTYP    ...     PLZ8_ANTG1  PLZ8_ANTG2  PLZ8_ANTG3  \\\n",
       "0               3.0        4.0    ...            NaN         NaN         NaN   \n",
       "1               5.0        1.0    ...            2.0         3.0         2.0   \n",
       "2               5.0        1.0    ...            3.0         3.0         1.0   \n",
       "3               2.0        6.0    ...            2.0         2.0         2.0   \n",
       "4               2.0        5.0    ...            2.0         4.0         2.0   \n",
       "\n",
       "   PLZ8_ANTG4  PLZ8_BAUMAX  PLZ8_HHZ  PLZ8_GBZ  ARBEIT  ORTSGR_KLS9  RELAT_AB  \n",
       "0         NaN          NaN       NaN       NaN     NaN          NaN       NaN  \n",
       "1         1.0          1.0       5.0       4.0     3.0          5.0       4.0  \n",
       "2         0.0          1.0       4.0       4.0     3.0          5.0       2.0  \n",
       "3         0.0          1.0       3.0       4.0     2.0          3.0       3.0  \n",
       "4         1.0          2.0       3.0       3.0     4.0          6.0       5.0  \n",
       "\n",
       "[5 rows x 79 columns]"
      ]
     },
     "execution_count": 52,
     "metadata": {},
     "output_type": "execute_result"
    }
   ],
   "source": [
    "# Remove the outlier columns from the dataset. (You'll perform other data\n",
    "# engineering tasks such as re-encoding and imputation later.)\n",
    "\n",
    "cols=[]\n",
    "for key in nan_dict.keys():\n",
    "    if nan_dict[key]>200000:\n",
    "        cols.append(key)\n",
    "print(cols)\n",
    "azdias.drop(cols,axis=1,inplace=True)\n",
    "azdias.head()"
   ]
  },
  {
   "cell_type": "markdown",
   "metadata": {},
   "source": [
    "#### Discussion 1.1.2: Assess Missing Data in Each Column\n",
    "\n",
    "As it could be observed in the previous histogram, the percentage of missing data is less than 15% in almost all columns.\n",
    "However, it was noticed that six columns('AGER_TYP', 'GEBURTSJAHR', 'TITEL_KZ', 'ALTER_HH', 'KK_KUNDENTYP', 'KBA05_BAUMAX') showed an extremely high percentage of missing values. These columns are treated as outliers(dropped from the dataset).\n",
    "Furthermore the following patterns were found in the data:\n",
    "- KKK REGIOTYP columns had the same amount of missing values (both related to region)\n",
    "- KBA05_ANTG1 KBA05_ANTG2 KBA05_ANTG3 KBA05_ANTG4 KBA05_GBZ MOBI_REGIO columns had the same amount of missing values (all related to living place)\n",
    "- PLZ8_ANTG1 PLZ8_ANTG2 PLZ8_ANTG3 PLZ8_ANTG4 PLZ8_BAUMAX PLZ8_GBZ PLZ8_HHZ columns had the same amount of missing values (all related to PLZ8 region living place info)\n",
    "- HEALTH_TYP SHOPPER_TYP VERS_TYP columns had the same amount of missing values (related to health/shopping)\n",
    "- CAMEO_DEUG_2015 CAMEO_DEU_2015 CAMEO_INTL_2015 columns had the same amount of missing values (related to micro-cell features)\n",
    "- ARBEIT RELAT_AB columns had the same amount of missing values (related to employment)\n",
    "- BALLRAUM EWDICHTE INNENSTADT columns had the same amount of missing values (related to postcode-level features)\n",
    "- GEBAEUDETYP MIN_GEBAEUDEJAHR OST_WEST_KZ WOHNLAGE columns had the same amount of missing values (related to building/neighborhood)\n",
    "- LP_FAMILIE_FEIN LP_FAMILIE_GROB columns had the same amount of missing values (related to family)\n",
    "- ANZ_PERSONEN ANZ_TITEL SOHO_KZ WOHNDAUER_2008 columns had the same amount of missing values (related to household information)\n",
    "- CJT_GESAMTTYP GFK_URLAUBERTYP LP_STATUS_FEIN LP_STATUS_GROB ONLINE_AFFINITAET RETOURTYP_BK_S columns had the same amount of missing values (related to consumer habits and social status)"
   ]
  },
  {
   "cell_type": "markdown",
   "metadata": {},
   "source": [
    "#### Step 1.1.3: Assess Missing Data in Each Row\n",
    "\n",
    "Now, you'll perform a similar assessment for the rows of the dataset. How much data is missing in each row? As with the columns, you should see some groups of points that have a very different numbers of missing values. Divide the data into two subsets: one for data points that are above some threshold for missing values, and a second subset for points below that threshold.\n",
    "\n",
    "In order to know what to do with the outlier rows, we should see if the distribution of data values on columns that are not missing data (or are missing very little data) are similar or different between the two groups. Select at least five of these columns and compare the distribution of values.\n",
    "- You can use seaborn's [`countplot()`](https://seaborn.pydata.org/generated/seaborn.countplot.html) function to create a bar chart of code frequencies and matplotlib's [`subplot()`](https://matplotlib.org/api/_as_gen/matplotlib.pyplot.subplot.html) function to put bar charts for the two subplots side by side.\n",
    "- To reduce repeated code, you might want to write a function that can perform this comparison, taking as one of its arguments a column to be compared.\n",
    "\n",
    "Depending on what you observe in your comparison, this will have implications on how you approach your conclusions later in the analysis. If the distributions of non-missing features look similar between the data with many missing values and the data with few or no missing values, then we could argue that simply dropping those points from the analysis won't present a major issue. On the other hand, if the data with many missing values looks very different from the data with few or no missing values, then we should make a note on those data as special. Make sure you report your observations in the discussion section. **Either way, you should continue your analysis below using just the subset of the data with few or no missing values.**"
   ]
  },
  {
   "cell_type": "code",
   "execution_count": 53,
   "metadata": {},
   "outputs": [],
   "source": [
    "# How much data is missing in each row of the dataset?\n",
    "\n",
    "# Create list of number of NaN elements for each row\n",
    "nan_list = []\n",
    "rows=azdias.shape[0]\n",
    "columns=azdias.shape[1]\n",
    "for i in range(0,rows):\n",
    "    nan_count = columns-azdias.loc[i].count()\n",
    "    nan_list.append(nan_count)\n",
    "#print(nan_list)"
   ]
  },
  {
   "cell_type": "code",
   "execution_count": 54,
   "metadata": {},
   "outputs": [
    {
     "data": {
      "image/png": "[encoded data removed]",
      "text/plain": [
       "<matplotlib.figure.Figure at 0x7fda0e321320>"
      ]
     },
     "metadata": {},
     "output_type": "display_data"
    }
   ],
   "source": [
    "# Write code to divide the data into two subsets based on the number of missing\n",
    "# values in each row.\n",
    "\n",
    "# Plotting histogram of missing values per row\n",
    "plt.figure(figsize=(20,6))\n",
    "plt.hist(nan_list, color='g',bins=50)\n",
    "plt.show()"
   ]
  },
  {
   "cell_type": "code",
   "execution_count": 55,
   "metadata": {},
   "outputs": [],
   "source": [
    "# Find row numbers to be separated (divided)\n",
    "# Threshold: more than 20 missing elements\n",
    "i=0\n",
    "nan_list_row=[]\n",
    "for element in nan_list:\n",
    "    if(element>20):\n",
    "        nan_list_row.append(i)\n",
    "    i = i + 1\n",
    "#print(nan_list_row)"
   ]
  },
  {
   "cell_type": "code",
   "execution_count": 56,
   "metadata": {},
   "outputs": [],
   "source": [
    "# Divide dataframe\n",
    "azdias_nan_subset = pd.DataFrame(columns=azdias.columns)\n",
    "azdias_nan_subset = azdias_nan_subset.append(azdias.loc[nan_list_row],ignore_index=True)\n",
    "#azdias_nan_subset.shape\n",
    "\n",
    "azdias.drop(nan_list_row,inplace=True)\n",
    "#azdias.shape"
   ]
  },
  {
   "cell_type": "code",
   "execution_count": 57,
   "metadata": {},
   "outputs": [],
   "source": [
    "# Compare the distribution of values for at least five columns where there are\n",
    "# no or few missing values, between the two subsets.\n",
    "\n",
    "# Function to plot values\n",
    "def compare_col_hist(col):\n",
    "    fig, axs = plt.subplots(1, 2, tight_layout=True)\n",
    "    azdias.hist(column=col,bins=50,ax=axs[0])\n",
    "    azdias_nan_subset.hist(column=col,bins=50,ax=axs[1])"
   ]
  },
  {
   "cell_type": "code",
   "execution_count": 58,
   "metadata": {
    "scrolled": false
   },
   "outputs": [
    {
     "name": "stdout",
     "output_type": "stream",
     "text": [
      "ANREDE_KZ\n",
      "FINANZ_MINIMALIST\n",
      "FINANZ_SPARER\n",
      "FINANZ_VORSORGER\n",
      "FINANZ_ANLEGER\n",
      "FINANZ_UNAUFFAELLIGER\n",
      "FINANZ_HAUSBAUER\n",
      "FINANZTYP\n",
      "GREEN_AVANTGARDE\n",
      "SEMIO_SOZ\n",
      "SEMIO_FAM\n",
      "SEMIO_REL\n",
      "SEMIO_MAT\n",
      "SEMIO_VERT\n",
      "SEMIO_LUST\n",
      "SEMIO_ERL\n",
      "SEMIO_KULT\n",
      "SEMIO_RAT\n",
      "SEMIO_KRIT\n",
      "SEMIO_DOM\n",
      "SEMIO_KAEM\n",
      "SEMIO_PFLICHT\n",
      "SEMIO_TRADV\n",
      "ZABEOTYP\n"
     ]
    },
    {
     "name": "stderr",
     "output_type": "stream",
     "text": [
      "/opt/conda/lib/python3.6/site-packages/matplotlib/figure.py:1999: UserWarning: This figure includes Axes that are not compatible with tight_layout, so results might be incorrect.\n",
      "  warnings.warn(\"This figure includes Axes that are not compatible \"\n"
     ]
    },
    {
     "data": {
      "image/png": "[encoded data removed]",
      "text/plain": [
       "<matplotlib.figure.Figure at 0x7fda0e36ba20>"
      ]
     },
     "metadata": {},
     "output_type": "display_data"
    },
    {
     "data": {
      "image/png": "[encoded data removed]",
      "text/plain": [
       "<matplotlib.figure.Figure at 0x7fda31cb1860>"
      ]
     },
     "metadata": {},
     "output_type": "display_data"
    },
    {
     "data": {
      "image/png": "[encoded data removed]",
      "text/plain": [
       "<matplotlib.figure.Figure at 0x7fda0ee528d0>"
      ]
     },
     "metadata": {},
     "output_type": "display_data"
    },
    {
     "data": {
      "image/png": "[encoded data removed]",
      "text/plain": [
       "<matplotlib.figure.Figure at 0x7fda31de6eb8>"
      ]
     },
     "metadata": {},
     "output_type": "display_data"
    },
    {
     "data": {
      "image/png": "[encoded data removed]",
      "text/plain": [
       "<matplotlib.figure.Figure at 0x7fd9e33780f0>"
      ]
     },
     "metadata": {},
     "output_type": "display_data"
    }
   ],
   "source": [
    "# Plot and compare\n",
    "\n",
    "# Find columns with no nan-elements\n",
    "i=0\n",
    "for col in nan_dict.keys():\n",
    "    if(nan_dict[col]==0):\n",
    "        print(col)\n",
    "    i = i + 1\n",
    "        \n",
    "pick_columns = ['FINANZ_SPARER','SEMIO_LUST','SEMIO_LUST','SEMIO_TRADV','ZABEOTYP']\n",
    "for col in pick_columns:\n",
    "    compare_col_hist(col)"
   ]
  },
  {
   "cell_type": "markdown",
   "metadata": {},
   "source": [
    "#### Discussion 1.1.3: Assess Missing Data in Each Row\n",
    "\n",
    "After plotting the number of missing values per row, it could be noticed that most rows had less that 20 missing values.\n",
    "Some rows had more than 20 missing values (those rows are treated as outliers).\n",
    "After dividing the data based on this threshold (20 values missing per row), and comparing the column value distribution for columns with zero missing values(5 samples), it could be noticed that:\n",
    "- All columns had different distributions. Special treatment may be required for these columns"
   ]
  },
  {
   "cell_type": "markdown",
   "metadata": {},
   "source": [
    "### Step 1.2: Select and Re-Encode Features\n",
    "\n",
    "Checking for missing data isn't the only way in which you can prepare a dataset for analysis. Since the unsupervised learning techniques to be used will only work on data that is encoded numerically, you need to make a few encoding changes or additional assumptions to be able to make progress. In addition, while almost all of the values in the dataset are encoded using numbers, not all of them represent numeric values. Check the third column of the feature summary (`feat_info`) for a summary of types of measurement.\n",
    "- For numeric and interval data, these features can be kept without changes.\n",
    "- Most of the variables in the dataset are ordinal in nature. While ordinal values may technically be non-linear in spacing, make the simplifying assumption that the ordinal variables can be treated as being interval in nature (that is, kept without any changes).\n",
    "- Special handling may be necessary for the remaining two variable types: categorical, and 'mixed'.\n",
    "\n",
    "In the first two parts of this sub-step, you will perform an investigation of the categorical and mixed-type features and make a decision on each of them, whether you will keep, drop, or re-encode each. Then, in the last part, you will create a new data frame with only the selected and engineered columns.\n",
    "\n",
    "Data wrangling is often the trickiest part of the data analysis process, and there's a lot of it to be done here. But stick with it: once you're done with this step, you'll be ready to get to the machine learning parts of the project!"
   ]
  },
  {
   "cell_type": "code",
   "execution_count": 59,
   "metadata": {
    "scrolled": false
   },
   "outputs": [
    {
     "data": {
      "text/plain": [
       "type\n",
       "categorical    21\n",
       "interval        1\n",
       "mixed           7\n",
       "numeric         7\n",
       "ordinal        49\n",
       "dtype: int64"
      ]
     },
     "execution_count": 59,
     "metadata": {},
     "output_type": "execute_result"
    }
   ],
   "source": [
    "# How many features are there of each data type?\n",
    "\n",
    "feat_info.groupby(['type']).size()"
   ]
  },
  {
   "cell_type": "markdown",
   "metadata": {},
   "source": [
    "#### Step 1.2.1: Re-Encode Categorical Features\n",
    "\n",
    "For categorical data, you would ordinarily need to encode the levels as dummy variables. Depending on the number of categories, perform one of the following:\n",
    "- For binary (two-level) categoricals that take numeric values, you can keep them without needing to do anything.\n",
    "- There is one binary variable that takes on non-numeric values. For this one, you need to re-encode the values as numbers or create a dummy variable.\n",
    "- For multi-level categoricals (three or more values), you can choose to encode the values using multiple dummy variables (e.g. via [OneHotEncoder](http://scikit-learn.org/stable/modules/generated/sklearn.preprocessing.OneHotEncoder.html)), or (to keep things straightforward) just drop them from the analysis. As always, document your choices in the Discussion section."
   ]
  },
  {
   "cell_type": "code",
   "execution_count": 60,
   "metadata": {
    "scrolled": false
   },
   "outputs": [
    {
     "data": {
      "text/html": [
       "<div>\n",
       "<style>\n",
       "    .dataframe thead tr:only-child th {\n",
       "        text-align: right;\n",
       "    }\n",
       "\n",
       "    .dataframe thead th {\n",
       "        text-align: left;\n",
       "    }\n",
       "\n",
       "    .dataframe tbody tr th {\n",
       "        vertical-align: top;\n",
       "    }\n",
       "</style>\n",
       "<table border=\"1\" class=\"dataframe\">\n",
       "  <thead>\n",
       "    <tr style=\"text-align: right;\">\n",
       "      <th></th>\n",
       "      <th>attribute</th>\n",
       "      <th>information_level</th>\n",
       "      <th>type</th>\n",
       "      <th>missing_or_unknown</th>\n",
       "    </tr>\n",
       "  </thead>\n",
       "  <tbody>\n",
       "    <tr>\n",
       "      <th>0</th>\n",
       "      <td>AGER_TYP</td>\n",
       "      <td>person</td>\n",
       "      <td>categorical</td>\n",
       "      <td>[-1,0]</td>\n",
       "    </tr>\n",
       "    <tr>\n",
       "      <th>2</th>\n",
       "      <td>ANREDE_KZ</td>\n",
       "      <td>person</td>\n",
       "      <td>categorical</td>\n",
       "      <td>[-1,0]</td>\n",
       "    </tr>\n",
       "    <tr>\n",
       "      <th>3</th>\n",
       "      <td>CJT_GESAMTTYP</td>\n",
       "      <td>person</td>\n",
       "      <td>categorical</td>\n",
       "      <td>[0]</td>\n",
       "    </tr>\n",
       "    <tr>\n",
       "      <th>10</th>\n",
       "      <td>FINANZTYP</td>\n",
       "      <td>person</td>\n",
       "      <td>categorical</td>\n",
       "      <td>[-1]</td>\n",
       "    </tr>\n",
       "    <tr>\n",
       "      <th>12</th>\n",
       "      <td>GFK_URLAUBERTYP</td>\n",
       "      <td>person</td>\n",
       "      <td>categorical</td>\n",
       "      <td>[]</td>\n",
       "    </tr>\n",
       "    <tr>\n",
       "      <th>13</th>\n",
       "      <td>GREEN_AVANTGARDE</td>\n",
       "      <td>person</td>\n",
       "      <td>categorical</td>\n",
       "      <td>[]</td>\n",
       "    </tr>\n",
       "    <tr>\n",
       "      <th>17</th>\n",
       "      <td>LP_FAMILIE_FEIN</td>\n",
       "      <td>person</td>\n",
       "      <td>categorical</td>\n",
       "      <td>[0]</td>\n",
       "    </tr>\n",
       "    <tr>\n",
       "      <th>18</th>\n",
       "      <td>LP_FAMILIE_GROB</td>\n",
       "      <td>person</td>\n",
       "      <td>categorical</td>\n",
       "      <td>[0]</td>\n",
       "    </tr>\n",
       "    <tr>\n",
       "      <th>19</th>\n",
       "      <td>LP_STATUS_FEIN</td>\n",
       "      <td>person</td>\n",
       "      <td>categorical</td>\n",
       "      <td>[0]</td>\n",
       "    </tr>\n",
       "    <tr>\n",
       "      <th>20</th>\n",
       "      <td>LP_STATUS_GROB</td>\n",
       "      <td>person</td>\n",
       "      <td>categorical</td>\n",
       "      <td>[0]</td>\n",
       "    </tr>\n",
       "    <tr>\n",
       "      <th>21</th>\n",
       "      <td>NATIONALITAET_KZ</td>\n",
       "      <td>person</td>\n",
       "      <td>categorical</td>\n",
       "      <td>[-1,0]</td>\n",
       "    </tr>\n",
       "    <tr>\n",
       "      <th>38</th>\n",
       "      <td>SHOPPER_TYP</td>\n",
       "      <td>person</td>\n",
       "      <td>categorical</td>\n",
       "      <td>[-1]</td>\n",
       "    </tr>\n",
       "    <tr>\n",
       "      <th>39</th>\n",
       "      <td>SOHO_KZ</td>\n",
       "      <td>person</td>\n",
       "      <td>categorical</td>\n",
       "      <td>[-1]</td>\n",
       "    </tr>\n",
       "    <tr>\n",
       "      <th>40</th>\n",
       "      <td>TITEL_KZ</td>\n",
       "      <td>person</td>\n",
       "      <td>categorical</td>\n",
       "      <td>[-1,0]</td>\n",
       "    </tr>\n",
       "    <tr>\n",
       "      <th>41</th>\n",
       "      <td>VERS_TYP</td>\n",
       "      <td>person</td>\n",
       "      <td>categorical</td>\n",
       "      <td>[-1]</td>\n",
       "    </tr>\n",
       "    <tr>\n",
       "      <th>42</th>\n",
       "      <td>ZABEOTYP</td>\n",
       "      <td>person</td>\n",
       "      <td>categorical</td>\n",
       "      <td>[-1,9]</td>\n",
       "    </tr>\n",
       "    <tr>\n",
       "      <th>47</th>\n",
       "      <td>KK_KUNDENTYP</td>\n",
       "      <td>household</td>\n",
       "      <td>categorical</td>\n",
       "      <td>[-1]</td>\n",
       "    </tr>\n",
       "    <tr>\n",
       "      <th>52</th>\n",
       "      <td>GEBAEUDETYP</td>\n",
       "      <td>building</td>\n",
       "      <td>categorical</td>\n",
       "      <td>[-1,0]</td>\n",
       "    </tr>\n",
       "    <tr>\n",
       "      <th>55</th>\n",
       "      <td>OST_WEST_KZ</td>\n",
       "      <td>building</td>\n",
       "      <td>categorical</td>\n",
       "      <td>[-1]</td>\n",
       "    </tr>\n",
       "    <tr>\n",
       "      <th>57</th>\n",
       "      <td>CAMEO_DEUG_2015</td>\n",
       "      <td>microcell_rr4</td>\n",
       "      <td>categorical</td>\n",
       "      <td>[-1,X]</td>\n",
       "    </tr>\n",
       "    <tr>\n",
       "      <th>58</th>\n",
       "      <td>CAMEO_DEU_2015</td>\n",
       "      <td>microcell_rr4</td>\n",
       "      <td>categorical</td>\n",
       "      <td>[XX]</td>\n",
       "    </tr>\n",
       "  </tbody>\n",
       "</table>\n",
       "</div>"
      ],
      "text/plain": [
       "           attribute information_level         type missing_or_unknown\n",
       "0           AGER_TYP            person  categorical             [-1,0]\n",
       "2          ANREDE_KZ            person  categorical             [-1,0]\n",
       "3      CJT_GESAMTTYP            person  categorical                [0]\n",
       "10         FINANZTYP            person  categorical               [-1]\n",
       "12   GFK_URLAUBERTYP            person  categorical                 []\n",
       "13  GREEN_AVANTGARDE            person  categorical                 []\n",
       "17   LP_FAMILIE_FEIN            person  categorical                [0]\n",
       "18   LP_FAMILIE_GROB            person  categorical                [0]\n",
       "19    LP_STATUS_FEIN            person  categorical                [0]\n",
       "20    LP_STATUS_GROB            person  categorical                [0]\n",
       "21  NATIONALITAET_KZ            person  categorical             [-1,0]\n",
       "38       SHOPPER_TYP            person  categorical               [-1]\n",
       "39           SOHO_KZ            person  categorical               [-1]\n",
       "40          TITEL_KZ            person  categorical             [-1,0]\n",
       "41          VERS_TYP            person  categorical               [-1]\n",
       "42          ZABEOTYP            person  categorical             [-1,9]\n",
       "47      KK_KUNDENTYP         household  categorical               [-1]\n",
       "52       GEBAEUDETYP          building  categorical             [-1,0]\n",
       "55       OST_WEST_KZ          building  categorical               [-1]\n",
       "57   CAMEO_DEUG_2015     microcell_rr4  categorical             [-1,X]\n",
       "58    CAMEO_DEU_2015     microcell_rr4  categorical               [XX]"
      ]
     },
     "execution_count": 60,
     "metadata": {},
     "output_type": "execute_result"
    }
   ],
   "source": [
    "# Assess categorical variables: which are binary, which are multi-level, and\n",
    "# which one needs to be re-encoded?\n",
    "\n",
    "feat_info[feat_info['type']=='categorical']\n",
    "#azdias[azdias.columns[53]]"
   ]
  },
  {
   "cell_type": "code",
   "execution_count": 61,
   "metadata": {
    "scrolled": false
   },
   "outputs": [
    {
     "name": "stdout",
     "output_type": "stream",
     "text": [
      "more than 2 categories: CJT_GESAMTTYP\n",
      "more than 2 categories: FINANZTYP\n",
      "more than 2 categories: GFK_URLAUBERTYP\n",
      "more than 2 categories: LP_FAMILIE_FEIN\n",
      "more than 2 categories: LP_FAMILIE_GROB\n",
      "more than 2 categories: LP_STATUS_FEIN\n",
      "more than 2 categories: LP_STATUS_GROB\n",
      "more than 2 categories: NATIONALITAET_KZ\n",
      "more than 2 categories: SHOPPER_TYP\n",
      "more than 2 categories: VERS_TYP\n",
      "more than 2 categories: ZABEOTYP\n",
      "more than 2 categories: GEBAEUDETYP\n",
      "transformed by get_dummies: OST_WEST_KZ\n",
      "more than 2 categories: CAMEO_DEUG_2015\n",
      "more than 2 categories: CAMEO_DEU_2015\n"
     ]
    }
   ],
   "source": [
    "# Re-encode categorical variable(s) to be kept in the analysis.\n",
    "\n",
    "categorical_cols = []\n",
    "for a in feat_info[feat_info['type']=='categorical']['attribute']:\n",
    "    categorical_cols.append(a)\n",
    "    \n",
    "for cols in azdias.columns:\n",
    "    if cols in categorical_cols:\n",
    "        if len(azdias[cols].unique()) > 2:\n",
    "            azdias = azdias.drop(cols, axis=1)\n",
    "            print(\"more than 2 categories: {}\".format(cols))\n",
    "        else:\n",
    "            if(not is_integer(azdias[cols].unique()[0])):\n",
    "                dummies = pd.get_dummies(azdias[cols],prefix=cols)\n",
    "                azdias = azdias.drop(cols, axis=1)\n",
    "                azdias = azdias.join(dummies)\n",
    "                print(\"transformed by get_dummies: {}\".format(cols))"
   ]
  },
  {
   "cell_type": "markdown",
   "metadata": {},
   "source": [
    "#### Discussion 1.2.1: Re-Encode Categorical Features\n",
    "\n",
    "feat_info has 21 categorical features. Out of them, 18 were present in our dataframe(the other three were previosuly deleted for having too many missing values). The categorical features with more than 3 values were deleted for simplicity. The binary categories were left untouched, except by OST_WEST_KZ. OST_WEST_KZ which was one-hot-encoded using get_dummies."
   ]
  },
  {
   "cell_type": "markdown",
   "metadata": {},
   "source": [
    "#### Step 1.2.2: Engineer Mixed-Type Features\n",
    "\n",
    "There are a handful of features that are marked as \"mixed\" in the feature summary that require special treatment in order to be included in the analysis. There are two in particular that deserve attention; the handling of the rest are up to your own choices:\n",
    "- \"PRAEGENDE_JUGENDJAHRE\" combines information on three dimensions: generation by decade, movement (mainstream vs. avantgarde), and nation (east vs. west). While there aren't enough levels to disentangle east from west, you should create two new variables to capture the other two dimensions: an interval-type variable for decade, and a binary variable for movement.\n",
    "- \"CAMEO_INTL_2015\" combines information on two axes: wealth and life stage. Break up the two-digit codes by their 'tens'-place and 'ones'-place digits into two new ordinal variables (which, for the purposes of this project, is equivalent to just treating them as their raw numeric values).\n",
    "- If you decide to keep or engineer new features around the other mixed-type features, make sure you note your steps in the Discussion section.\n",
    "\n",
    "Be sure to check `Data_Dictionary.md` for the details needed to finish these tasks."
   ]
  },
  {
   "cell_type": "code",
   "execution_count": 62,
   "metadata": {},
   "outputs": [
    {
     "data": {
      "text/html": [
       "<div>\n",
       "<style>\n",
       "    .dataframe thead tr:only-child th {\n",
       "        text-align: right;\n",
       "    }\n",
       "\n",
       "    .dataframe thead th {\n",
       "        text-align: left;\n",
       "    }\n",
       "\n",
       "    .dataframe tbody tr th {\n",
       "        vertical-align: top;\n",
       "    }\n",
       "</style>\n",
       "<table border=\"1\" class=\"dataframe\">\n",
       "  <thead>\n",
       "    <tr style=\"text-align: right;\">\n",
       "      <th></th>\n",
       "      <th>attribute</th>\n",
       "      <th>information_level</th>\n",
       "      <th>type</th>\n",
       "      <th>missing_or_unknown</th>\n",
       "    </tr>\n",
       "  </thead>\n",
       "  <tbody>\n",
       "    <tr>\n",
       "      <th>15</th>\n",
       "      <td>LP_LEBENSPHASE_FEIN</td>\n",
       "      <td>person</td>\n",
       "      <td>mixed</td>\n",
       "      <td>[0]</td>\n",
       "    </tr>\n",
       "    <tr>\n",
       "      <th>16</th>\n",
       "      <td>LP_LEBENSPHASE_GROB</td>\n",
       "      <td>person</td>\n",
       "      <td>mixed</td>\n",
       "      <td>[0]</td>\n",
       "    </tr>\n",
       "    <tr>\n",
       "      <th>22</th>\n",
       "      <td>PRAEGENDE_JUGENDJAHRE</td>\n",
       "      <td>person</td>\n",
       "      <td>mixed</td>\n",
       "      <td>[-1,0]</td>\n",
       "    </tr>\n",
       "    <tr>\n",
       "      <th>56</th>\n",
       "      <td>WOHNLAGE</td>\n",
       "      <td>building</td>\n",
       "      <td>mixed</td>\n",
       "      <td>[-1]</td>\n",
       "    </tr>\n",
       "    <tr>\n",
       "      <th>59</th>\n",
       "      <td>CAMEO_INTL_2015</td>\n",
       "      <td>microcell_rr4</td>\n",
       "      <td>mixed</td>\n",
       "      <td>[-1,XX]</td>\n",
       "    </tr>\n",
       "    <tr>\n",
       "      <th>64</th>\n",
       "      <td>KBA05_BAUMAX</td>\n",
       "      <td>microcell_rr3</td>\n",
       "      <td>mixed</td>\n",
       "      <td>[-1,0]</td>\n",
       "    </tr>\n",
       "    <tr>\n",
       "      <th>79</th>\n",
       "      <td>PLZ8_BAUMAX</td>\n",
       "      <td>macrocell_plz8</td>\n",
       "      <td>mixed</td>\n",
       "      <td>[-1,0]</td>\n",
       "    </tr>\n",
       "  </tbody>\n",
       "</table>\n",
       "</div>"
      ],
      "text/plain": [
       "                attribute information_level   type missing_or_unknown\n",
       "15    LP_LEBENSPHASE_FEIN            person  mixed                [0]\n",
       "16    LP_LEBENSPHASE_GROB            person  mixed                [0]\n",
       "22  PRAEGENDE_JUGENDJAHRE            person  mixed             [-1,0]\n",
       "56               WOHNLAGE          building  mixed               [-1]\n",
       "59        CAMEO_INTL_2015     microcell_rr4  mixed            [-1,XX]\n",
       "64           KBA05_BAUMAX     microcell_rr3  mixed             [-1,0]\n",
       "79            PLZ8_BAUMAX    macrocell_plz8  mixed             [-1,0]"
      ]
     },
     "execution_count": 62,
     "metadata": {},
     "output_type": "execute_result"
    }
   ],
   "source": [
    "feat_info[feat_info['type']=='mixed']"
   ]
  },
  {
   "cell_type": "code",
   "execution_count": 63,
   "metadata": {},
   "outputs": [],
   "source": [
    "# Investigate \"PRAEGENDE_JUGENDJAHRE\" and engineer two new variables.\n",
    "\n",
    "PRAEGENDE_JUGENDJAHRE_new = azdias[['PRAEGENDE_JUGENDJAHRE', 'PRAEGENDE_JUGENDJAHRE']].copy()\n",
    "PRAEGENDE_JUGENDJAHRE_new.columns = ['PRAEGENDE_JUGENDJAHRE_DECADE','PRAEGENDE_JUGENDJAHRE_MOVEMENT']\n",
    "\n",
    "#Set Decade\n",
    "PRAEGENDE_JUGENDJAHRE_new.loc[PRAEGENDE_JUGENDJAHRE_new['PRAEGENDE_JUGENDJAHRE_DECADE'].isin([1,2]), 'PRAEGENDE_JUGENDJAHRE_DECADE'] = 40.\n",
    "PRAEGENDE_JUGENDJAHRE_new.loc[PRAEGENDE_JUGENDJAHRE_new['PRAEGENDE_JUGENDJAHRE_DECADE'].isin([3,4]), 'PRAEGENDE_JUGENDJAHRE_DECADE'] = 50.\n",
    "PRAEGENDE_JUGENDJAHRE_new.loc[PRAEGENDE_JUGENDJAHRE_new['PRAEGENDE_JUGENDJAHRE_DECADE'].isin([5,6,7]), 'PRAEGENDE_JUGENDJAHRE_DECADE'] = 60.\n",
    "PRAEGENDE_JUGENDJAHRE_new.loc[PRAEGENDE_JUGENDJAHRE_new['PRAEGENDE_JUGENDJAHRE_DECADE'].isin([8,9]), 'PRAEGENDE_JUGENDJAHRE_DECADE'] = 70.\n",
    "PRAEGENDE_JUGENDJAHRE_new.loc[PRAEGENDE_JUGENDJAHRE_new['PRAEGENDE_JUGENDJAHRE_DECADE'].isin([10,11,12,13]), 'PRAEGENDE_JUGENDJAHRE_DECADE'] = 80.\n",
    "PRAEGENDE_JUGENDJAHRE_new.loc[PRAEGENDE_JUGENDJAHRE_new['PRAEGENDE_JUGENDJAHRE_DECADE'].isin([14,15]), 'PRAEGENDE_JUGENDJAHRE_DECADE'] = 90.\n",
    "\n",
    "#Set Movement\n",
    "PRAEGENDE_JUGENDJAHRE_new.loc[PRAEGENDE_JUGENDJAHRE_new['PRAEGENDE_JUGENDJAHRE_MOVEMENT'].isin([1,3,5,8,10,12,14]), 'PRAEGENDE_JUGENDJAHRE_MOVEMENT'] = 0.\n",
    "PRAEGENDE_JUGENDJAHRE_new.loc[PRAEGENDE_JUGENDJAHRE_new['PRAEGENDE_JUGENDJAHRE_MOVEMENT'].isin([2,4,6,7,9,11,13,15]), 'PRAEGENDE_JUGENDJAHRE_MOVEMENT'] = 1. \n",
    "\n",
    "#Join Columns\n",
    "azdias = azdias.drop('PRAEGENDE_JUGENDJAHRE', axis=1)\n",
    "azdias = azdias.join(PRAEGENDE_JUGENDJAHRE_new)"
   ]
  },
  {
   "cell_type": "code",
   "execution_count": 64,
   "metadata": {},
   "outputs": [],
   "source": [
    "# Investigate \"CAMEO_INTL_2015\" and engineer two new variables.\n",
    "\n",
    "CAMEO_INTL_2015_new = azdias[['CAMEO_INTL_2015', 'CAMEO_INTL_2015']].copy()\n",
    "CAMEO_INTL_2015_new.columns = ['CAMEO_INTL_2015_WEALTH','CAMEO_INTL_2015_LIFE_STAGE']\n",
    "\n",
    "#Set Wealth\n",
    "CAMEO_INTL_2015_new['CAMEO_INTL_2015_WEALTH'] = round((CAMEO_INTL_2015_new['CAMEO_INTL_2015_WEALTH'].astype(float))/10)\n",
    "\n",
    "#Set Life Stage\n",
    "CAMEO_INTL_2015_new['CAMEO_INTL_2015_LIFE_STAGE'] = (CAMEO_INTL_2015_new['CAMEO_INTL_2015_LIFE_STAGE'].astype(float))%10\n",
    "\n",
    "#Join Columns\n",
    "azdias = azdias.drop('CAMEO_INTL_2015', axis=1)\n",
    "azdias = azdias.join(CAMEO_INTL_2015_new)"
   ]
  },
  {
   "cell_type": "code",
   "execution_count": 65,
   "metadata": {},
   "outputs": [],
   "source": [
    "# Dropping the remaining 5 features (KBA05_BAUMAX already dropped)\n",
    "\n",
    "mixed_remaining_featues = ['LP_LEBENSPHASE_FEIN', 'LP_LEBENSPHASE_GROB', 'WOHNLAGE', 'PLZ8_BAUMAX']\n",
    "azdias.drop(mixed_remaining_featues,axis=1,inplace=True)\n",
    "#azdias.head()"
   ]
  },
  {
   "cell_type": "markdown",
   "metadata": {},
   "source": [
    "#### Discussion 1.2.2: Engineer Mixed-Type Features\n",
    "\n",
    "There are 7 mixed variables according to feat_info. 2 of them were re-engineered and the remaining 5 were dropped:\n",
    "- Two variables (PRAEGENDE_JUGENDJAHRE_MOVEMENT and PRAEGENDE_JUGENDJAHRE_DECADE) were created from the original PRAEGENDE_JUGENDJAHRE column based on Data_Dictionary.md\n",
    "- Two variables (CAMEO_INTL_2015_WEALTH and CAMEO_INTL_2015_LIFE_STAGE) were created from the original CAMEO_INTL_2015 column based on Data_Dictionary.md\n",
    "\n",
    "The remaining 5 variables were dropped folowwing the next criteria:\n",
    "- LP_LEBENSPHASE_FEIN LP_LEBENSPHASE_GROB WOHNLAGE : information provided by this features can be found in CAMEO_INTL_2015\n",
    "- PLZ8_BAUMAX : information provided by this features can be found in other PLZ8 macro-cell features\n",
    "- KBA05_BAUMAX : this feature was already dropped in the previous step"
   ]
  },
  {
   "cell_type": "markdown",
   "metadata": {},
   "source": [
    "#### Step 1.2.3: Complete Feature Selection\n",
    "\n",
    "In order to finish this step up, you need to make sure that your data frame now only has the columns that you want to keep. To summarize, the dataframe should consist of the following:\n",
    "- All numeric, interval, and ordinal type columns from the original dataset.\n",
    "- Binary categorical features (all numerically-encoded).\n",
    "- Engineered features from other multi-level categorical features and mixed features.\n",
    "\n",
    "Make sure that for any new columns that you have engineered, that you've excluded the original columns from the final dataset. Otherwise, their values will interfere with the analysis later on the project. For example, you should not keep \"PRAEGENDE_JUGENDJAHRE\", since its values won't be useful for the algorithm: only the values derived from it in the engineered features you created should be retained. As a reminder, your data should only be from **the subset with few or no missing values**."
   ]
  },
  {
   "cell_type": "code",
   "execution_count": 66,
   "metadata": {},
   "outputs": [],
   "source": [
    "# If there are other re-engineering tasks you need to perform, make sure you\n",
    "# take care of them here. (Dealing with missing data will come in step 2.1.)\n",
    "\n",
    "# No more tasks needed"
   ]
  },
  {
   "cell_type": "code",
   "execution_count": 67,
   "metadata": {
    "scrolled": false
   },
   "outputs": [
    {
     "data": {
      "text/plain": [
       "Index(['ALTERSKATEGORIE_GROB', 'ANREDE_KZ', 'FINANZ_MINIMALIST',\n",
       "       'FINANZ_SPARER', 'FINANZ_VORSORGER', 'FINANZ_ANLEGER',\n",
       "       'FINANZ_UNAUFFAELLIGER', 'FINANZ_HAUSBAUER', 'GREEN_AVANTGARDE',\n",
       "       'HEALTH_TYP', 'RETOURTYP_BK_S', 'SEMIO_SOZ', 'SEMIO_FAM', 'SEMIO_REL',\n",
       "       'SEMIO_MAT', 'SEMIO_VERT', 'SEMIO_LUST', 'SEMIO_ERL', 'SEMIO_KULT',\n",
       "       'SEMIO_RAT', 'SEMIO_KRIT', 'SEMIO_DOM', 'SEMIO_KAEM', 'SEMIO_PFLICHT',\n",
       "       'SEMIO_TRADV', 'SOHO_KZ', 'ANZ_PERSONEN', 'ANZ_TITEL',\n",
       "       'HH_EINKOMMEN_SCORE', 'W_KEIT_KIND_HH', 'WOHNDAUER_2008',\n",
       "       'ANZ_HAUSHALTE_AKTIV', 'ANZ_HH_TITEL', 'KONSUMNAEHE',\n",
       "       'MIN_GEBAEUDEJAHR', 'KBA05_ANTG1', 'KBA05_ANTG2', 'KBA05_ANTG3',\n",
       "       'KBA05_ANTG4', 'KBA05_GBZ', 'BALLRAUM', 'EWDICHTE', 'INNENSTADT',\n",
       "       'GEBAEUDETYP_RASTER', 'KKK', 'MOBI_REGIO', 'ONLINE_AFFINITAET',\n",
       "       'REGIOTYP', 'KBA13_ANZAHL_PKW', 'PLZ8_ANTG1', 'PLZ8_ANTG2',\n",
       "       'PLZ8_ANTG3', 'PLZ8_ANTG4', 'PLZ8_HHZ', 'PLZ8_GBZ', 'ARBEIT',\n",
       "       'ORTSGR_KLS9', 'RELAT_AB', 'OST_WEST_KZ_O', 'OST_WEST_KZ_W',\n",
       "       'PRAEGENDE_JUGENDJAHRE_DECADE', 'PRAEGENDE_JUGENDJAHRE_MOVEMENT',\n",
       "       'CAMEO_INTL_2015_WEALTH', 'CAMEO_INTL_2015_LIFE_STAGE'],\n",
       "      dtype='object')"
      ]
     },
     "execution_count": 67,
     "metadata": {},
     "output_type": "execute_result"
    }
   ],
   "source": [
    "# Do whatever you need to in order to ensure that the dataframe only contains\n",
    "# the columns that should be passed to the algorithm functions.\n",
    "\n",
    "# Check columns\n",
    "azdias.columns"
   ]
  },
  {
   "cell_type": "markdown",
   "metadata": {},
   "source": [
    "### Step 1.3: Create a Cleaning Function\n",
    "\n",
    "Even though you've finished cleaning up the general population demographics data, it's important to look ahead to the future and realize that you'll need to perform the same cleaning steps on the customer demographics data. In this substep, complete the function below to execute the main feature selection, encoding, and re-engineering steps you performed above. Then, when it comes to looking at the customer data in Step 3, you can just run this function on that DataFrame to get the trimmed dataset in a single step."
   ]
  },
  {
   "cell_type": "code",
   "execution_count": 68,
   "metadata": {},
   "outputs": [],
   "source": [
    "def clean_data(df):\n",
    "    \"\"\"\n",
    "    Perform feature trimming, re-encoding, and engineering for demographics\n",
    "    data\n",
    "    \n",
    "    INPUT: Demographics DataFrame\n",
    "    OUTPUT: Trimmed and cleaned demographics DataFrame\n",
    "    \"\"\"\n",
    "    \n",
    "    # Put in code here to execute all main cleaning steps:\n",
    "    # convert missing value codes into NaNs, ...\n",
    "    \n",
    "    for column in df:\n",
    "        tmp = feat_info.loc[(feat_info['attribute'] == column)]['missing_or_unknown']\n",
    "        for item in tmp:\n",
    "            x_list = create_x_list(item)\n",
    "        for element in x_list:\n",
    "            df.loc[df[column] == element, column] = np.NAN\n",
    "    \n",
    "    # remove selected columns and rows, ...\n",
    "    rows=df.shape[0]\n",
    "    columns=df.shape[1]\n",
    "    cols = ['AGER_TYP', 'GEBURTSJAHR', 'TITEL_KZ', 'ALTER_HH', 'KK_KUNDENTYP', 'KBA05_BAUMAX']\n",
    "    #cols = []\n",
    "    #for column in df:\n",
    "    #    nan_count = columns-df[column].count()\n",
    "    #    if(nan_count>200000):\n",
    "    #        cols.append(column)\n",
    "    df.drop(cols,axis=1,inplace=True)\n",
    "    \n",
    "    rs = []\n",
    "    for row in range(0,rows):\n",
    "        nan_count = columns-df.loc[row].count()\n",
    "        if(nan_count>20):\n",
    "            rs.append(row)\n",
    "    df.drop(rs,inplace=True)\n",
    "    \n",
    "    # select, re-encode, and engineer column values.\n",
    "    # caterical values\n",
    "    categorical_cols = []\n",
    "    for a in feat_info[feat_info['type']=='categorical']['attribute']:\n",
    "        categorical_cols.append(a)\n",
    "    for cols in df.columns:\n",
    "        if cols in categorical_cols:\n",
    "            if len(df[cols].unique()) > 2:\n",
    "                df = df.drop(cols, axis=1)\n",
    "            else:\n",
    "                if(not is_integer(df[cols].unique()[0])):\n",
    "                    dummies = pd.get_dummies(df[cols],prefix=cols)\n",
    "                    df = df.drop(cols, axis=1)\n",
    "                    df = df.join(dummies)\n",
    "    \n",
    "    # mixed values\n",
    "    #\"PRAEGENDE_JUGENDJAHRE\" \n",
    "    PRAEGENDE_JUGENDJAHRE_new = df[['PRAEGENDE_JUGENDJAHRE', 'PRAEGENDE_JUGENDJAHRE']].copy()\n",
    "    PRAEGENDE_JUGENDJAHRE_new.columns = ['PRAEGENDE_JUGENDJAHRE_DECADE','PRAEGENDE_JUGENDJAHRE_MOVEMENT']\n",
    "    PRAEGENDE_JUGENDJAHRE_new.loc[PRAEGENDE_JUGENDJAHRE_new['PRAEGENDE_JUGENDJAHRE_DECADE'].isin([1,2]), 'PRAEGENDE_JUGENDJAHRE_DECADE'] = 40.\n",
    "    PRAEGENDE_JUGENDJAHRE_new.loc[PRAEGENDE_JUGENDJAHRE_new['PRAEGENDE_JUGENDJAHRE_DECADE'].isin([3,4]), 'PRAEGENDE_JUGENDJAHRE_DECADE'] = 50.\n",
    "    PRAEGENDE_JUGENDJAHRE_new.loc[PRAEGENDE_JUGENDJAHRE_new['PRAEGENDE_JUGENDJAHRE_DECADE'].isin([5,6,7]), 'PRAEGENDE_JUGENDJAHRE_DECADE'] = 60.\n",
    "    PRAEGENDE_JUGENDJAHRE_new.loc[PRAEGENDE_JUGENDJAHRE_new['PRAEGENDE_JUGENDJAHRE_DECADE'].isin([8,9]), 'PRAEGENDE_JUGENDJAHRE_DECADE'] = 70.\n",
    "    PRAEGENDE_JUGENDJAHRE_new.loc[PRAEGENDE_JUGENDJAHRE_new['PRAEGENDE_JUGENDJAHRE_DECADE'].isin([10,11,12,13]), 'PRAEGENDE_JUGENDJAHRE_DECADE'] = 80.\n",
    "    PRAEGENDE_JUGENDJAHRE_new.loc[PRAEGENDE_JUGENDJAHRE_new['PRAEGENDE_JUGENDJAHRE_DECADE'].isin([14,15]), 'PRAEGENDE_JUGENDJAHRE_DECADE'] = 90.\n",
    "    PRAEGENDE_JUGENDJAHRE_new.loc[PRAEGENDE_JUGENDJAHRE_new['PRAEGENDE_JUGENDJAHRE_MOVEMENT'].isin([1,3,5,8,10,12,14]), 'PRAEGENDE_JUGENDJAHRE_MOVEMENT'] = 0.\n",
    "    PRAEGENDE_JUGENDJAHRE_new.loc[PRAEGENDE_JUGENDJAHRE_new['PRAEGENDE_JUGENDJAHRE_MOVEMENT'].isin([2,4,6,7,9,11,13,15]), 'PRAEGENDE_JUGENDJAHRE_MOVEMENT'] = 1. \n",
    "    df = df.drop('PRAEGENDE_JUGENDJAHRE', axis=1)\n",
    "    df = df.join(PRAEGENDE_JUGENDJAHRE_new)\n",
    "    \n",
    "    #CAMEO_INTL_2015\n",
    "    CAMEO_INTL_2015_new = df[['CAMEO_INTL_2015', 'CAMEO_INTL_2015']].copy()\n",
    "    CAMEO_INTL_2015_new.columns = ['CAMEO_INTL_2015_WEALTH','CAMEO_INTL_2015_LIFE_STAGE']\n",
    "    CAMEO_INTL_2015_new['CAMEO_INTL_2015_WEALTH'] = round((CAMEO_INTL_2015_new['CAMEO_INTL_2015_WEALTH'].astype(float))/10)\n",
    "    CAMEO_INTL_2015_new['CAMEO_INTL_2015_LIFE_STAGE'] = (CAMEO_INTL_2015_new['CAMEO_INTL_2015_LIFE_STAGE'].astype(float))%10\n",
    "    df = df.drop('CAMEO_INTL_2015', axis=1)\n",
    "    df = df.join(CAMEO_INTL_2015_new)\n",
    "    \n",
    "    #Remaining mixed-type features\n",
    "    mixed_remaining_featues = ['LP_LEBENSPHASE_FEIN', 'LP_LEBENSPHASE_GROB', 'WOHNLAGE', 'PLZ8_BAUMAX']\n",
    "    df = df.drop(mixed_remaining_featues,axis=1)\n",
    "\n",
    "    # Return the cleaned dataframe.\n",
    "    return df"
   ]
  },
  {
   "cell_type": "markdown",
   "metadata": {},
   "source": [
    "## Step 2: Feature Transformation\n",
    "\n",
    "### Step 2.1: Apply Feature Scaling\n",
    "\n",
    "Before we apply dimensionality reduction techniques to the data, we need to perform feature scaling so that the principal component vectors are not influenced by the natural differences in scale for features. Starting from this part of the project, you'll want to keep an eye on the [API reference page for sklearn](http://scikit-learn.org/stable/modules/classes.html) to help you navigate to all of the classes and functions that you'll need. In this substep, you'll need to check the following:\n",
    "\n",
    "- sklearn requires that data not have missing values in order for its estimators to work properly. So, before applying the scaler to your data, make sure that you've cleaned the DataFrame of the remaining missing values before applying your scaler. This can be as simple as just removing all data points with missing data, or applying an [Imputer](http://scikit-learn.org/stable/modules/generated/sklearn.preprocessing.Imputer.html) to replace all missing values. You might also try a more complicated procedure where you temporarily remove missing values in order to compute the scaling parameters before re-introducing those missing values and applying imputation. Think about how much missing data you have and what possible effects each approach might have on your analysis, and justify your decision in the discussion section below.\n",
    "- For the actual scaling function, a [StandardScaler](http://scikit-learn.org/stable/modules/generated/sklearn.preprocessing.StandardScaler.html) instance is suggested, scaling each feature to mean 0 and standard deviation 1.\n",
    "- For these classes, you can make use of the `.fit_transform()` method to both fit a procedure to the data as well as apply the transformation to the data at the same time. Don't forget to keep the fit sklearn objects handy, since you'll be applying them to the customer demographics data towards the end of the project."
   ]
  },
  {
   "cell_type": "code",
   "execution_count": 69,
   "metadata": {},
   "outputs": [],
   "source": [
    "# If you've not yet cleaned the dataset of all NaN values, then investigate and do that now.\n",
    "\n",
    "# Applying Imputer\n",
    "\n",
    "fill_NaN = Imputer(missing_values=np.nan, strategy='mean', axis=1)\n",
    "azdias_imputed = pd.DataFrame(fill_NaN.fit_transform(azdias))\n",
    "azdias_imputed.columns = azdias.columns\n",
    "azdias_imputed.index = azdias.index"
   ]
  },
  {
   "cell_type": "code",
   "execution_count": 70,
   "metadata": {},
   "outputs": [],
   "source": [
    "# Apply feature scaling to the general population demographics data.\n",
    "\n",
    "scaler = StandardScaler()\n",
    "azdias_scaled = scaler.fit_transform(azdias_imputed.values)"
   ]
  },
  {
   "cell_type": "markdown",
   "metadata": {},
   "source": [
    "### Discussion 2.1: Apply Feature Scaling\n",
    "\n",
    "- Imputer was used to handle remaining NaN values\n",
    "- StandardScaler was used to scale the imputed data"
   ]
  },
  {
   "cell_type": "markdown",
   "metadata": {},
   "source": [
    "### Step 2.2: Perform Dimensionality Reduction\n",
    "\n",
    "On your scaled data, you are now ready to apply dimensionality reduction techniques.\n",
    "\n",
    "- Use sklearn's [PCA](http://scikit-learn.org/stable/modules/generated/sklearn.decomposition.PCA.html) class to apply principal component analysis on the data, thus finding the vectors of maximal variance in the data. To start, you should not set any parameters (so all components are computed) or set a number of components that is at least half the number of features (so there's enough features to see the general trend in variability).\n",
    "- Check out the ratio of variance explained by each principal component as well as the cumulative variance explained. Try plotting the cumulative or sequential values using matplotlib's [`plot()`](https://matplotlib.org/api/_as_gen/matplotlib.pyplot.plot.html) function. Based on what you find, select a value for the number of transformed features you'll retain for the clustering part of the project.\n",
    "- Once you've made a choice for the number of components to keep, make sure you re-fit a PCA instance to perform the decided-on transformation."
   ]
  },
  {
   "cell_type": "code",
   "execution_count": 71,
   "metadata": {},
   "outputs": [
    {
     "data": {
      "text/plain": [
       "PCA(copy=True, iterated_power='auto', n_components=None, random_state=None,\n",
       "  svd_solver='auto', tol=0.0, whiten=False)"
      ]
     },
     "execution_count": 71,
     "metadata": {},
     "output_type": "execute_result"
    }
   ],
   "source": [
    "# Apply PCA to the data.\n",
    "\n",
    "pca = PCA()\n",
    "pca.fit(azdias_scaled)"
   ]
  },
  {
   "cell_type": "code",
   "execution_count": 72,
   "metadata": {},
   "outputs": [],
   "source": [
    "def scree_plot(pca):\n",
    "    '''\n",
    "    Creates a scree plot associated with the principal components \n",
    "    \n",
    "    INPUT: pca - the result of instantian of PCA in scikit learn\n",
    "            \n",
    "    OUTPUT:\n",
    "            None\n",
    "    '''\n",
    "    num_components = len(pca.explained_variance_ratio_)\n",
    "    ind = np.arange(num_components)\n",
    "    vals = pca.explained_variance_ratio_\n",
    " \n",
    "    plt.figure(figsize=(20, 6))\n",
    "    ax = plt.subplot(111)\n",
    "    cumvals = np.cumsum(vals)\n",
    "    ax.bar(ind, vals)\n",
    "    ax.plot(ind, cumvals)\n",
    "    for i in range(num_components):\n",
    "        ax.annotate(r\"%s%%\" % ((str(vals[i]*100)[:4])), (ind[i]+0.2, vals[i]), va=\"bottom\", ha=\"center\", fontsize=12)\n",
    " \n",
    "    ax.xaxis.set_tick_params(width=0)\n",
    "    ax.yaxis.set_tick_params(width=2, length=12)\n",
    " \n",
    "    ax.set_xlabel(\"Principal Component\")\n",
    "    ax.set_ylabel(\"Variance Explained (%)\")\n",
    "    plt.title('Explained Variance Per Principal Component')"
   ]
  },
  {
   "cell_type": "code",
   "execution_count": 73,
   "metadata": {},
   "outputs": [
    {
     "data": {
      "image/png": "[encoded data removed]",
      "text/plain": [
       "<matplotlib.figure.Figure at 0x7fda0e9825c0>"
      ]
     },
     "metadata": {},
     "output_type": "display_data"
    }
   ],
   "source": [
    "# Investigate the variance accounted for by each principal component.\n",
    "scree_plot(pca)"
   ]
  },
  {
   "cell_type": "code",
   "execution_count": 74,
   "metadata": {},
   "outputs": [],
   "source": [
    "# Re-apply PCA to the data while selecting for number of components to retain.\n",
    "\n",
    "# We can see that by using 45 components, the incremental variance explained variation ratio is near zero\n",
    "pca = PCA(n_components=45)\n",
    "azdias_scaled_select=pca.fit_transform(azdias_scaled)"
   ]
  },
  {
   "cell_type": "markdown",
   "metadata": {},
   "source": [
    "### Discussion 2.2: Perform Dimensionality Reduction\n",
    "\n",
    "It was found that by using 45 components, the incremental variance explained variation ratio became almost zero. Therefore, we will keep those 45 component for the upcoming analysis."
   ]
  },
  {
   "cell_type": "markdown",
   "metadata": {},
   "source": [
    "### Step 2.3: Interpret Principal Components\n",
    "\n",
    "Now that we have our transformed principal components, it's a nice idea to check out the weight of each variable on the first few components to see if they can be interpreted in some fashion.\n",
    "\n",
    "As a reminder, each principal component is a unit vector that points in the direction of highest variance (after accounting for the variance captured by earlier principal components). The further a weight is from zero, the more the principal component is in the direction of the corresponding feature. If two features have large weights of the same sign (both positive or both negative), then increases in one tend expect to be associated with increases in the other. To contrast, features with different signs can be expected to show a negative correlation: increases in one variable should result in a decrease in the other.\n",
    "\n",
    "- To investigate the features, you should map each weight to their corresponding feature name, then sort the features according to weight. The most interesting features for each principal component, then, will be those at the beginning and end of the sorted list. Use the data dictionary document to help you understand these most prominent features, their relationships, and what a positive or negative value on the principal component might indicate.\n",
    "- You should investigate and interpret feature associations from the first three principal components in this substep. To help facilitate this, you should write a function that you can call at any time to print the sorted list of feature weights, for the *i*-th principal component. This might come in handy in the next step of the project, when you interpret the tendencies of the discovered clusters."
   ]
  },
  {
   "cell_type": "code",
   "execution_count": 75,
   "metadata": {},
   "outputs": [],
   "source": [
    "# Find feature weights for component. Return list of features sorted in ascendent order of weight\n",
    "def weights(component):\n",
    "    weight_dict={}\n",
    "    i = np.identity(azdias_scaled.shape[1]) \n",
    "    coef = pca.transform(i)\n",
    "    j=0\n",
    "    for col in azdias.columns:\n",
    "        weight_dict.update({col: coef[j][component]})\n",
    "        j = j + 1\n",
    "    final = sorted(weight_dict, key=weight_dict.get)\n",
    "    for element in final:\n",
    "        print(element,weight_dict[element])"
   ]
  },
  {
   "cell_type": "code",
   "execution_count": 76,
   "metadata": {
    "scrolled": false
   },
   "outputs": [
    {
     "name": "stdout",
     "output_type": "stream",
     "text": [
      "FINANZ_HAUSBAUER -0.102523681121\n",
      "HH_EINKOMMEN_SCORE -0.0808174612488\n",
      "SEMIO_LUST -0.0579878604962\n",
      "WOHNDAUER_2008 -0.0480758379478\n",
      "ANZ_HAUSHALTE_AKTIV -0.0383755335125\n",
      "EWDICHTE -0.0363816009634\n",
      "FINANZ_VORSORGER -0.0361934662805\n",
      "ORTSGR_KLS9 -0.0356993991414\n",
      "SEMIO_ERL -0.0327040269286\n",
      "SEMIO_DOM -0.0296753682843\n",
      "SEMIO_KAEM -0.021997838881\n",
      "RELAT_AB -0.0215800095676\n",
      "ARBEIT -0.0195112907643\n",
      "ANREDE_KZ -0.0163453773342\n",
      "ALTERSKATEGORIE_GROB -0.0126756088495\n",
      "SEMIO_SOZ -0.0120332908199\n",
      "OST_WEST_KZ_O -0.0119621687049\n",
      "HEALTH_TYP -0.00930481825689\n",
      "RETOURTYP_BK_S -0.00796378957142\n",
      "W_KEIT_KIND_HH -0.00344318076483\n",
      "ANZ_TITEL -0.000835163618243\n",
      "SOHO_KZ 0.000840817581233\n",
      "ANZ_HH_TITEL 0.00382693617738\n",
      "SEMIO_KRIT 0.00607886848819\n",
      "KBA13_ANZAHL_PKW 0.00673224135783\n",
      "PRAEGENDE_JUGENDJAHRE_MOVEMENT 0.00783649919684\n",
      "GREEN_AVANTGARDE 0.00925524685058\n",
      "SEMIO_KULT 0.0113327714166\n",
      "OST_WEST_KZ_W 0.0119621687049\n",
      "ANZ_PERSONEN 0.0128675970457\n",
      "SEMIO_PFLICHT 0.0177189976931\n",
      "SEMIO_REL 0.0220174858998\n",
      "FINANZ_SPARER 0.0238492801967\n",
      "FINANZ_ANLEGER 0.0239382496802\n",
      "SEMIO_FAM 0.0241607720285\n",
      "ONLINE_AFFINITAET 0.025175035698\n",
      "SEMIO_RAT 0.0259260229898\n",
      "BALLRAUM 0.0267315710146\n",
      "GEBAEUDETYP_RASTER 0.0308879980346\n",
      "SEMIO_TRADV 0.0312714517744\n",
      "CAMEO_INTL_2015_WEALTH 0.0330370781116\n",
      "INNENSTADT 0.0342543706364\n",
      "FINANZ_MINIMALIST 0.0355511784089\n",
      "SEMIO_VERT 0.0412617614064\n",
      "PRAEGENDE_JUGENDJAHRE_DECADE 0.044408711023\n",
      "SEMIO_MAT 0.0456797773756\n",
      "KONSUMNAEHE 0.0460153055338\n",
      "CAMEO_INTL_2015_LIFE_STAGE 0.0593140012579\n",
      "FINANZ_UNAUFFAELLIGER 0.0746070987525\n",
      "REGIOTYP 0.161705196623\n",
      "KKK 0.163408370492\n",
      "PLZ8_ANTG3 0.242789828441\n",
      "PLZ8_ANTG2 0.24463913351\n",
      "MIN_GEBAEUDEJAHR 0.244738823227\n",
      "PLZ8_ANTG4 0.244992596653\n",
      "PLZ8_HHZ 0.24802109227\n",
      "PLZ8_ANTG1 0.252138882878\n",
      "PLZ8_GBZ 0.252573610496\n",
      "KBA05_ANTG3 0.274722848522\n",
      "KBA05_ANTG4 0.275388982563\n",
      "KBA05_ANTG2 0.275671700666\n",
      "KBA05_ANTG1 0.277848414778\n",
      "MOBI_REGIO 0.278491551405\n",
      "KBA05_GBZ 0.278537873931\n"
     ]
    }
   ],
   "source": [
    "# Map weights for the first principal component to corresponding feature names\n",
    "# and then print the linked values, sorted by weight.\n",
    "# HINT: Try defining a function here or in a new cell that you can reuse in the\n",
    "# other cells.\n",
    "\n",
    "weights(0)"
   ]
  },
  {
   "cell_type": "code",
   "execution_count": 77,
   "metadata": {
    "scrolled": false
   },
   "outputs": [
    {
     "name": "stdout",
     "output_type": "stream",
     "text": [
      "SEMIO_REL -0.301503764276\n",
      "FINANZ_SPARER -0.283861530307\n",
      "SEMIO_KULT -0.266386583159\n",
      "SEMIO_PFLICHT -0.262919767036\n",
      "PRAEGENDE_JUGENDJAHRE_DECADE -0.251952373478\n",
      "SEMIO_TRADV -0.250642464995\n",
      "SEMIO_FAM -0.237971791596\n",
      "FINANZ_UNAUFFAELLIGER -0.229225444757\n",
      "FINANZ_ANLEGER -0.202173250723\n",
      "SEMIO_MAT -0.198763407572\n",
      "SEMIO_RAT -0.181787271718\n",
      "SEMIO_SOZ -0.148672538222\n",
      "HH_EINKOMMEN_SCORE -0.0751479226716\n",
      "SEMIO_VERT -0.073675664384\n",
      "ONLINE_AFFINITAET -0.0354807567842\n",
      "ORTSGR_KLS9 -0.0304199387462\n",
      "EWDICHTE -0.027401126965\n",
      "HEALTH_TYP -0.0264069845708\n",
      "ANZ_HAUSHALTE_AKTIV -0.0256396543834\n",
      "RELAT_AB -0.0167017533825\n",
      "ARBEIT -0.0159809736548\n",
      "CAMEO_INTL_2015_WEALTH -0.0117667746994\n",
      "OST_WEST_KZ_O -0.0115280116138\n",
      "W_KEIT_KIND_HH -0.00172175421227\n",
      "SOHO_KZ -0.000264743847901\n",
      "ANZ_PERSONEN 0.00128532631933\n",
      "FINANZ_HAUSBAUER 0.0024446656927\n",
      "ANZ_TITEL 0.00745793268154\n",
      "PRAEGENDE_JUGENDJAHRE_MOVEMENT 0.00959532806069\n",
      "REGIOTYP 0.00999193623753\n",
      "OST_WEST_KZ_W 0.0115280116138\n",
      "KKK 0.0115354631913\n",
      "ANZ_HH_TITEL 0.0157144471081\n",
      "KBA13_ANZAHL_PKW 0.0159367889257\n",
      "PLZ8_ANTG3 0.0195766833221\n",
      "PLZ8_ANTG4 0.0212525916231\n",
      "PLZ8_ANTG2 0.0217648037601\n",
      "BALLRAUM 0.0234464217084\n",
      "PLZ8_HHZ 0.0241395561828\n",
      "MIN_GEBAEUDEJAHR 0.0243162356467\n",
      "KBA05_ANTG3 0.0276542707221\n",
      "KBA05_ANTG4 0.0293627225072\n",
      "KBA05_ANTG2 0.0294231611862\n",
      "PLZ8_GBZ 0.0305239718824\n",
      "PLZ8_ANTG1 0.0316103359084\n",
      "CAMEO_INTL_2015_LIFE_STAGE 0.0325590048554\n",
      "INNENSTADT 0.0326543066358\n",
      "GEBAEUDETYP_RASTER 0.0357130745255\n",
      "KBA05_GBZ 0.036256523208\n",
      "KBA05_ANTG1 0.0378755651521\n",
      "MOBI_REGIO 0.0384512900587\n",
      "KONSUMNAEHE 0.0415912771597\n",
      "GREEN_AVANTGARDE 0.0440321355918\n",
      "RETOURTYP_BK_S 0.0598080929255\n",
      "WOHNDAUER_2008 0.0791966580735\n",
      "SEMIO_DOM 0.0832865550721\n",
      "ALTERSKATEGORIE_GROB 0.109579762325\n",
      "SEMIO_KAEM 0.11545994899\n",
      "ANREDE_KZ 0.117574923768\n",
      "SEMIO_KRIT 0.13405527533\n",
      "FINANZ_MINIMALIST 0.174804308437\n",
      "SEMIO_LUST 0.189125728252\n",
      "FINANZ_VORSORGER 0.263142332695\n",
      "SEMIO_ERL 0.268298119271\n"
     ]
    }
   ],
   "source": [
    "# Map weights for the second principal component to corresponding feature names\n",
    "# and then print the linked values, sorted by weight.\n",
    "\n",
    "weights(1)"
   ]
  },
  {
   "cell_type": "code",
   "execution_count": 78,
   "metadata": {
    "scrolled": false
   },
   "outputs": [
    {
     "name": "stdout",
     "output_type": "stream",
     "text": [
      "ANREDE_KZ -0.350271430137\n",
      "SEMIO_KAEM -0.338402301692\n",
      "SEMIO_DOM -0.304927770834\n",
      "SEMIO_KRIT -0.267627319331\n",
      "SEMIO_RAT -0.234155065759\n",
      "FINANZ_ANLEGER -0.187506260693\n",
      "FINANZ_SPARER -0.150587927543\n",
      "SEMIO_ERL -0.143812208183\n",
      "FINANZ_HAUSBAUER -0.131628381744\n",
      "HH_EINKOMMEN_SCORE -0.115927075039\n",
      "FINANZ_UNAUFFAELLIGER -0.114663577261\n",
      "SEMIO_PFLICHT -0.112952538745\n",
      "PRAEGENDE_JUGENDJAHRE_DECADE -0.0986463056765\n",
      "SEMIO_TRADV -0.0965713825255\n",
      "HEALTH_TYP -0.0701394839075\n",
      "ORTSGR_KLS9 -0.0541303055146\n",
      "EWDICHTE -0.0525509503482\n",
      "PRAEGENDE_JUGENDJAHRE_MOVEMENT -0.0472815507681\n",
      "ANZ_HAUSHALTE_AKTIV -0.0469919670817\n",
      "PLZ8_ANTG3 -0.0382474409184\n",
      "PLZ8_ANTG4 -0.0356527640898\n",
      "PLZ8_ANTG2 -0.0352469229924\n",
      "PLZ8_HHZ -0.0315984540711\n",
      "RELAT_AB -0.03128991523\n",
      "CAMEO_INTL_2015_WEALTH -0.0307348828823\n",
      "ARBEIT -0.0284153870513\n",
      "PLZ8_GBZ -0.0222310087556\n",
      "PLZ8_ANTG1 -0.0207398888474\n",
      "W_KEIT_KIND_HH -0.0184279605142\n",
      "OST_WEST_KZ_O -0.0136808022321\n",
      "KBA05_ANTG3 -0.0120053798001\n",
      "KBA05_ANTG4 -0.0102996575505\n",
      "KBA05_ANTG2 -0.0088372470638\n",
      "SOHO_KZ 0.00159425135409\n",
      "KBA05_GBZ 0.00244316094098\n",
      "MIN_GEBAEUDEJAHR 0.00289993287693\n",
      "KBA05_ANTG1 0.00343789742975\n",
      "MOBI_REGIO 0.00459222393371\n",
      "REGIOTYP 0.00486957145205\n",
      "KKK 0.00773493906575\n",
      "ANZ_TITEL 0.00887477999509\n",
      "ONLINE_AFFINITAET 0.0101498875896\n",
      "OST_WEST_KZ_W 0.0136808022321\n",
      "CAMEO_INTL_2015_LIFE_STAGE 0.0138549445938\n",
      "ANZ_HH_TITEL 0.0139986817954\n",
      "SEMIO_MAT 0.0197133301021\n",
      "SEMIO_REL 0.0245362957842\n",
      "KBA13_ANZAHL_PKW 0.0245766507013\n",
      "ALTERSKATEGORIE_GROB 0.0339352158777\n",
      "BALLRAUM 0.0381915542331\n",
      "GEBAEUDETYP_RASTER 0.0413875821064\n",
      "RETOURTYP_BK_S 0.0452305225444\n",
      "INNENSTADT 0.048370182269\n",
      "ANZ_PERSONEN 0.0489115372907\n",
      "KONSUMNAEHE 0.0594223108886\n",
      "WOHNDAUER_2008 0.0607658388104\n",
      "SEMIO_LUST 0.0727113280605\n",
      "GREEN_AVANTGARDE 0.0878255836868\n",
      "FINANZ_VORSORGER 0.129712366493\n",
      "SEMIO_KULT 0.200311731973\n",
      "SEMIO_FAM 0.203817223777\n",
      "SEMIO_SOZ 0.230318084204\n",
      "FINANZ_MINIMALIST 0.247350492214\n",
      "SEMIO_VERT 0.343575531196\n"
     ]
    }
   ],
   "source": [
    "# Map weights for the third principal component to corresponding feature names\n",
    "# and then print the linked values, sorted by weight.\n",
    "\n",
    "weights(2)"
   ]
  },
  {
   "cell_type": "markdown",
   "metadata": {},
   "source": [
    "### Discussion 2.3: Interpret Principal Components\n",
    "\n",
    "It could be observed that:\n",
    "- The first component is heavily (positively) influenced by KBA05_ANTG3 KBA05_ANTG4 KBA05_ANTG2 KBA05_ANTG1 MOBI_REGIO KBA05_GBZ KBA05_GBZ → Micro-cell features and movement patterns\n",
    "- The second component is heavily (negatively) influenced by SEMIO_REL FINANZ_SPARER SEMIO_KULT SEMIO_PFLICHT → Personality typology (religious or not, cultural-minded or not, dutiful or not) and Financial typology (money-saver or not)\n",
    "- The third component is heavily(positively) influenced by ANREDE_KZ SEMIO_KAEM SEMIO_DOM SEMIO_KRIT SEMIO_RAT → Gender and Personality typology (combative or not, dominant or not, critical or not, rational or not)"
   ]
  },
  {
   "cell_type": "markdown",
   "metadata": {},
   "source": [
    "## Step 3: Clustering\n",
    "\n",
    "### Step 3.1: Apply Clustering to General Population\n",
    "\n",
    "You've assessed and cleaned the demographics data, then scaled and transformed them. Now, it's time to see how the data clusters in the principal components space. In this substep, you will apply k-means clustering to the dataset and use the average within-cluster distances from each point to their assigned cluster's centroid to decide on a number of clusters to keep.\n",
    "\n",
    "- Use sklearn's [KMeans](http://scikit-learn.org/stable/modules/generated/sklearn.cluster.KMeans.html#sklearn.cluster.KMeans) class to perform k-means clustering on the PCA-transformed data.\n",
    "- Then, compute the average difference from each point to its assigned cluster's center. **Hint**: The KMeans object's `.score()` method might be useful here, but note that in sklearn, scores tend to be defined so that larger is better. Try applying it to a small, toy dataset, or use an internet search to help your understanding.\n",
    "- Perform the above two steps for a number of different cluster counts. You can then see how the average distance decreases with an increasing number of clusters. However, each additional cluster provides a smaller net benefit. Use this fact to select a final number of clusters in which to group the data. **Warning**: because of the large size of the dataset, it can take a long time for the algorithm to resolve. The more clusters to fit, the longer the algorithm will take. You should test for cluster counts through at least 10 clusters to get the full picture, but you shouldn't need to test for a number of clusters above about 30.\n",
    "- Once you've selected a final number of clusters to use, re-fit a KMeans instance to perform the clustering operation. Make sure that you also obtain the cluster assignments for the general demographics data, since you'll be using them in the final Step 3.3."
   ]
  },
  {
   "cell_type": "code",
   "execution_count": 67,
   "metadata": {},
   "outputs": [],
   "source": [
    "def get_kmeans_score(data, center):\n",
    "    '''\n",
    "    returns the kmeans score regarding SSE for points to centers\n",
    "    INPUT:\n",
    "        data - the dataset you want to fit kmeans to\n",
    "        center - the number of centers you want (the k value)\n",
    "    OUTPUT:\n",
    "        score - the SSE score for the kmeans model fit to the data\n",
    "    '''\n",
    "    #instantiate kmeans\n",
    "    kmeans = KMeans(n_clusters=center)\n",
    "\n",
    "    # Then fit the model to your data using the fit method\n",
    "    model = kmeans.fit(data)\n",
    "    \n",
    "    # Obtain a score related to the model fit\n",
    "    score = np.abs(model.score(data))\n",
    "    \n",
    "    return score"
   ]
  },
  {
   "cell_type": "code",
   "execution_count": 68,
   "metadata": {
    "scrolled": false
   },
   "outputs": [
    {
     "name": "stdout",
     "output_type": "stream",
     "text": [
      "Calculating for center #1\n",
      "Calculating for center #2\n",
      "Calculating for center #3\n",
      "Calculating for center #4\n",
      "Calculating for center #5\n",
      "Calculating for center #6\n",
      "Calculating for center #7\n",
      "Calculating for center #8\n",
      "Calculating for center #9\n",
      "Calculating for center #10\n",
      "Calculating for center #11\n",
      "Calculating for center #12\n",
      "Calculating for center #13\n",
      "Calculating for center #14\n",
      "Calculating for center #15\n",
      "Calculating for center #16\n",
      "Calculating for center #17\n",
      "Calculating for center #18\n",
      "Calculating for center #19\n",
      "Calculating for center #20\n",
      "Calculating for center #21\n",
      "Calculating for center #22\n",
      "Calculating for center #23\n",
      "Calculating for center #24\n",
      "Calculating for center #25\n",
      "Calculating for center #26\n",
      "Calculating for center #27\n",
      "Calculating for center #28\n",
      "Calculating for center #29\n",
      "Calculating for center #30\n"
     ]
    }
   ],
   "source": [
    "# Over a number of different cluster counts...\n",
    "    # run k-means clustering on the data and...\n",
    "    # compute the average within-cluster distances.\n",
    "    \n",
    "scores = []\n",
    "centers = list(range(1,31))\n",
    "\n",
    "for center in centers:\n",
    "    print(\"Calculating for center #{}\".format(center))\n",
    "    scores.append(get_kmeans_score(azdias_scaled_select, center))"
   ]
  },
  {
   "cell_type": "code",
   "execution_count": 69,
   "metadata": {},
   "outputs": [
    {
     "data": {
      "image/png": "[encoded data removed]",
      "text/plain": [
       "<matplotlib.figure.Figure at 0x7f5efee71ac8>"
      ]
     },
     "metadata": {},
     "output_type": "display_data"
    }
   ],
   "source": [
    "# Investigate the change in within-cluster distance across number of clusters.\n",
    "# HINT: Use matplotlib's plot function to visualize this relationship.\n",
    "\n",
    "plt.plot(centers, scores, linestyle='--', marker='o', color='b');\n",
    "plt.xlabel('K');\n",
    "plt.ylabel('SSE');\n",
    "plt.title('SSE vs. K');"
   ]
  },
  {
   "cell_type": "code",
   "execution_count": 40,
   "metadata": {},
   "outputs": [],
   "source": [
    "# Re-fit the k-means model with the selected number of clusters and obtain\n",
    "# cluster predictions for the general population demographics data.\n",
    "\n",
    "# Using the elbow's method, 12 clusters are selected\n",
    "kmeans = KMeans(n_clusters=12)\n",
    "model = kmeans.fit(azdias_scaled_select)\n",
    "predictions_population = model.predict(azdias_scaled_select)"
   ]
  },
  {
   "cell_type": "markdown",
   "metadata": {},
   "source": [
    "### Discussion 3.1: Apply Clustering to General Population\n",
    "\n",
    "Based on the Score vs K graph, the number of clusters chosen was 12(elbow's method)."
   ]
  },
  {
   "cell_type": "markdown",
   "metadata": {},
   "source": [
    "### Step 3.2: Apply All Steps to the Customer Data\n",
    "\n",
    "Now that you have clusters and cluster centers for the general population, it's time to see how the customer data maps on to those clusters. Take care to not confuse this for re-fitting all of the models to the customer data. Instead, you're going to use the fits from the general population to clean, transform, and cluster the customer data. In the last step of the project, you will interpret how the general population fits apply to the customer data.\n",
    "\n",
    "- Don't forget when loading in the customers data, that it is semicolon (`;`) delimited.\n",
    "- Apply the same feature wrangling, selection, and engineering steps to the customer demographics using the `clean_data()` function you created earlier. (You can assume that the customer demographics data has similar meaning behind missing data patterns as the general demographics data.)\n",
    "- Use the sklearn objects from the general demographics data, and apply their transformations to the customers data. That is, you should not be using a `.fit()` or `.fit_transform()` method to re-fit the old objects, nor should you be creating new sklearn objects! Carry the data through the feature scaling, PCA, and clustering steps, obtaining cluster assignments for all of the data in the customer demographics data."
   ]
  },
  {
   "cell_type": "code",
   "execution_count": 41,
   "metadata": {},
   "outputs": [],
   "source": [
    "# Load in the customer demographics data.\n",
    "customers = pd.read_csv('Udacity_CUSTOMERS_Subset.csv',sep=';')\n",
    "rows_customers = customers.shape[0]\n",
    "customers_clean = clean_data(customers)\n",
    "nan_rows_customers = rows_customers-customers_clean.shape[0]"
   ]
  },
  {
   "cell_type": "code",
   "execution_count": 42,
   "metadata": {},
   "outputs": [],
   "source": [
    "# Apply preprocessing, feature transformation, and clustering from the general\n",
    "# demographics onto the customer data, obtaining cluster predictions for the\n",
    "# customer demographics data.\n",
    "\n",
    "customers_imputed = pd.DataFrame(fill_NaN.transform(customers_clean))\n",
    "customers_imputed.columns = customers_clean.columns\n",
    "customers_imputed.index = customers_clean.index\n",
    "customers_scaled = scaler.transform(customers_imputed.values)\n",
    "customers_scaled_select = pca.transform(customers_scaled)\n",
    "predictions_customer = model.predict(customers_scaled_select)"
   ]
  },
  {
   "cell_type": "markdown",
   "metadata": {},
   "source": [
    "### Step 3.3: Compare Customer Data to Demographics Data\n",
    "\n",
    "At this point, you have clustered data based on demographics of the general population of Germany, and seen how the customer data for a mail-order sales company maps onto those demographic clusters. In this final substep, you will compare the two cluster distributions to see where the strongest customer base for the company is.\n",
    "\n",
    "Consider the proportion of persons in each cluster for the general population, and the proportions for the customers. If we think the company's customer base to be universal, then the cluster assignment proportions should be fairly similar between the two. If there are only particular segments of the population that are interested in the company's products, then we should see a mismatch from one to the other. If there is a higher proportion of persons in a cluster for the customer data compared to the general population (e.g. 5% of persons are assigned to a cluster for the general population, but 15% of the customer data is closest to that cluster's centroid) then that suggests the people in that cluster to be a target audience for the company. On the other hand, the proportion of the data in a cluster being larger in the general population than the customer data (e.g. only 2% of customers closest to a population centroid that captures 6% of the data) suggests that group of persons to be outside of the target demographics.\n",
    "\n",
    "Take a look at the following points in this step:\n",
    "\n",
    "- Compute the proportion of data points in each cluster for the general population and the customer data. Visualizations will be useful here: both for the individual dataset proportions, but also to visualize the ratios in cluster representation between groups. Seaborn's [`countplot()`](https://seaborn.pydata.org/generated/seaborn.countplot.html) or [`barplot()`](https://seaborn.pydata.org/generated/seaborn.barplot.html) function could be handy.\n",
    "  - Recall the analysis you performed in step 1.1.3 of the project, where you separated out certain data points from the dataset if they had more than a specified threshold of missing values. If you found that this group was qualitatively different from the main bulk of the data, you should treat this as an additional data cluster in this analysis. Make sure that you account for the number of data points in this subset, for both the general population and customer datasets, when making your computations!\n",
    "- Which cluster or clusters are overrepresented in the customer dataset compared to the general population? Select at least one such cluster and infer what kind of people might be represented by that cluster. Use the principal component interpretations from step 2.3 or look at additional components to help you make this inference. Alternatively, you can use the `.inverse_transform()` method of the PCA and StandardScaler objects to transform centroids back to the original data space and interpret the retrieved values directly.\n",
    "- Perform a similar investigation for the underrepresented clusters. Which cluster or clusters are underrepresented in the customer dataset compared to the general population, and what kinds of people are typified by these clusters?"
   ]
  },
  {
   "cell_type": "code",
   "execution_count": 43,
   "metadata": {},
   "outputs": [],
   "source": [
    "def plot_cluster(clust_dict):\n",
    "    plt.figure(figsize=(20,6))\n",
    "    plt.bar(clust_dict.keys(),clust_dict.values(), color='g')\n",
    "    plt.show()"
   ]
  },
  {
   "cell_type": "code",
   "execution_count": 44,
   "metadata": {},
   "outputs": [],
   "source": [
    "def dict_per(dict):\n",
    "    sum = dict_sum(dict)\n",
    "    dict_return = dict.copy()\n",
    "    for e in dict_return.keys():\n",
    "        dict_return[e] = 100*dict_return[e]/sum\n",
    "    return dict_return"
   ]
  },
  {
   "cell_type": "code",
   "execution_count": 45,
   "metadata": {},
   "outputs": [],
   "source": [
    "def dict_sum(dict):\n",
    "    sum = 0\n",
    "    for e in dict.values():\n",
    "        sum = sum + e\n",
    "    return sum"
   ]
  },
  {
   "cell_type": "code",
   "execution_count": 71,
   "metadata": {
    "scrolled": false
   },
   "outputs": [
    {
     "name": "stdout",
     "output_type": "stream",
     "text": [
      "{10: 129776, 6: 212670, 4: 38926, 11: 116242, 7: 108511, 3: 26112, 2: 9404, 9: 13226, 0: 105331, 5: 32427, 8: 591, 1: 4210, 12: 93795}\n",
      "{11: 65194, 6: 38119, 0: 17240, 3: 4034, 7: 2775, 4: 6462, 9: 614, 5: 1494, 10: 2858, 2: 884, 1: 566, 8: 31, 12: 51381}\n"
     ]
    },
    {
     "data": {
      "image/png": "[encoded data removed]",
      "text/plain": [
       "<matplotlib.figure.Figure at 0x7f5efee7fe10>"
      ]
     },
     "metadata": {},
     "output_type": "display_data"
    },
    {
     "data": {
      "image/png": "[encoded data removed]",
      "text/plain": [
       "<matplotlib.figure.Figure at 0x7f5efee7f048>"
      ]
     },
     "metadata": {},
     "output_type": "display_data"
    }
   ],
   "source": [
    "# Compare the proportion of data in each cluster for the customer data to the\n",
    "# proportion of data in each cluster for the general population.\n",
    "\n",
    "#Counting number of data points per cluster\n",
    "population_dict = dict(Counter(predictions_population))\n",
    "customer_dict = dict(Counter(predictions_customer))\n",
    "\n",
    "#Adding a cluster for the data points dropped in step 1.1.3\n",
    "population_dict.update({len(population_dict):len(nan_list_row)})\n",
    "customer_dict.update({len(population_dict)-1:nan_rows_customers})\n",
    "\n",
    "#Printing number of data points per cluster\n",
    "print(population_dict)\n",
    "print(customer_dict)\n",
    "\n",
    "#Percentage of data per cluster\n",
    "population_dict_per = dict_per(population_dict)\n",
    "customer_dict_per = dict_per(customer_dict)\n",
    "\n",
    "#Plotting percentage of data per cluster\n",
    "plot_cluster(population_dict_per)\n",
    "plot_cluster(customer_dict_per)"
   ]
  },
  {
   "cell_type": "code",
   "execution_count": 72,
   "metadata": {},
   "outputs": [],
   "source": [
    "def print_center_dict(center_dict):\n",
    "    for e in center_dict:\n",
    "        print(\"{} {}\".format(e,center_dict[e]))"
   ]
  },
  {
   "cell_type": "code",
   "execution_count": 77,
   "metadata": {},
   "outputs": [],
   "source": [
    "def create_center_dict(cluster):\n",
    "    center = scaler.inverse_transform(pca.inverse_transform(model.cluster_centers_[cluster]))\n",
    "    center_dict = {}\n",
    "    i=0\n",
    "    for e in center:\n",
    "        center_dict.update({azdias.columns[i]:e})\n",
    "        i = i + 1\n",
    "    return center_dict"
   ]
  },
  {
   "cell_type": "code",
   "execution_count": 78,
   "metadata": {},
   "outputs": [],
   "source": [
    "# What kinds of people are part of a cluster that is overrepresented in the\n",
    "# customer data compared to the general population?\n",
    "\n",
    "# Calculate centroid for cluster #11 (this cluster has 35% representation in the \n",
    "# customer data but only 15% representation in the population data)\n",
    "center_dict_11 = create_center_dict(11)"
   ]
  },
  {
   "cell_type": "markdown",
   "metadata": {},
   "source": [
    "-\tALTERSKATEGORIE_GROB\t3.413249095\tage 30 - 45 years old/46 - 60 years old\n",
    "-\tANREDE_KZ\t1.056581671\tgender male\n",
    "-\tFINANZ_MINIMALIST\t4.636433264\tlow financial interest average/low\n",
    "-\tFINANZ_SPARER\t1.754140997\tmoney-saver very high/high\n",
    "-\tFINANZ_VORSORGER\t4.170584956\tbe prepared low\n",
    "-\tFINANZ_ANLEGER\t1.907603766\tinvestor high\n",
    "-\tFINANZ_UNAUFFAELLIGER\t1.995018278\tinconspicuous high\n",
    "-\tFINANZ_HAUSBAUER\t1.966159612\thome ownership high\n",
    "-\tGREEN_AVANTGARDE\t0.441111973\tnot a member of green avantgarde\n",
    "-\tHEALTH_TYP\t2.579539703\tsanitary affine / jaunty hedonists\n",
    "-\tRETOURTYP_BK_S\t4.330332001\tconservative Low-Returner\n",
    "-\tSEMIO_SOZ\t4.830835193\tsocially-minded average affinity/ low affinity\n",
    "-\tSEMIO_FAM\t4.543486461\tfamily-minded average affinity/low affinity\n",
    "-\tSEMIO_REL\t3.762080955\treligious high affinity/average affinity\n",
    "-\tSEMIO_MAT\t3.304032868\tmaterialistic high affinity\n",
    "-\tSEMIO_VERT\t5.970617137\tdreamful very low affinity\n",
    "-\tSEMIO_LUST\t5.10814603\tsensual-minded low affinity\n",
    "-\tSEMIO_ERL\t4.210504285\tevent-oriented average affinity\n",
    "-\tSEMIO_KULT\t5.05854446\tcultural-minded low affinity\n",
    "-\tSEMIO_RAT\t2.714429057\trational very high affinity/high affinity\n",
    "-\tSEMIO_KRIT\t3.409814246\tcritical-minded high affinity/average affinity\n",
    "-\tSEMIO_DOM\t3.499119944\tdominant-minded high affinity/average affinity\n",
    "-\tSEMIO_KAEM\t2.561188261\tcombative attitude very high affinity/high affinity\n",
    "-\tSEMIO_PFLICHT\t3.087840264\tdutiful high affinity\n",
    "-\tSEMIO_TRADV\t3.12127373\ttradional-minded high affinity\n",
    "-\tSOHO_KZ\t0.009558471\tno small office/home office\n",
    "-\tANZ_PERSONEN\t2.096473996\t2 adults in household\n",
    "-\tANZ_TITEL\t0.006468851\t0 professional academic title holders in household\n",
    "-\tHH_EINKOMMEN_SCORE\t3.246102844\thigh income\n",
    "-\tW_KEIT_KIND_HH\t5.56042298\tLikelihood of children in household unlikely/very unlikely\n",
    "-\tWOHNDAUER_2008\t8.463106632\tlength of residence 7-10 years/more than 10 years\n",
    "-\tANZ_HAUSHALTE_AKTIV\t2.803805217\t3 households in the building\n",
    "-\tANZ_HH_TITEL\t0.557264649\t0/1 professional academic title holders in building\n",
    "-\tKONSUMNAEHE\t3.806909535\tbuilding is located in a 1 x 1km grid cell that includes at least one RA1-consumption cell\n",
    "-\tMIN_GEBAEUDEJAHR\t1992.730517\tyear building was mentioned in the database\n",
    "-\tKBA05_ANTG1\t2.524173359\taverage share of 1-2 family homes/high share of 1-2 family homes\n",
    "-\tKBA05_ANTG2\t1.183942899\tlower share of 3-5 family homes\n",
    "-\tKBA05_ANTG3\t0.218280351\tno 6-10 family homes\n",
    "-\tKBA05_ANTG4\t0.064927471\tno 10+ family homes\n",
    "-\tKBA05_GBZ\t4.02047444\t17-22 buildings\n",
    "-\tBALLRAUM\t4.87482658\tDistance to nearest urban center 40 -  50 km\n",
    "-\tEWDICHTE\t3.077158397\t 90 - 149 households per km^2\n",
    "-\tINNENSTADT\t5.454112471\t10 - 20 km to city center/20 - 30 km to city center\n",
    "-\tGEBAEUDETYP_RASTER\t4.070528958\tmixed cell with low business share\n",
    "-\tKKK\t2.655129149\thigh/average\n",
    "-\tMOBI_REGIO\t4.04310608\tlow movement\n",
    "-\tONLINE_AFFINITAET\t3.346629365\thigh/very high\n",
    "-\tREGIOTYP\t4.06969839\tNeighborhood middle class\n",
    "-\tKBA13_ANZAHL_PKW\t686.3316102\t686 cars in the PLZ8 region\n",
    "-\tPLZ8_ANTG1\t2.839579213\taverage share of 1-2 family homes/high share of 1-2 family homes\n",
    "-\tPLZ8_ANTG2\t2.433457256\taverage share of 3-5 family homes/high share of 3-5 family homes\n",
    "-\tPLZ8_ANTG3\t1.001637776\tlower share of 6-10 family homes\n",
    "-\tPLZ8_ANTG4\t0.272881644\tno 10+ family homes\n",
    "-\tPLZ8_HHZ\t3.491535941\t300-599 households/600-849 households\n",
    "-\tPLZ8_GBZ\t3.854205405\t300-449 buildings/130-299 buildings\n",
    "-\tARBEIT\t2.752010121\tShare of unemployment in community average/low\n",
    "-\tORTSGR_KLS9\t4.109492169\tSize of community 10,001 to  20,000 inhabitants\n",
    "-\tRELAT_AB\t2.604052958\tShare of unemployment relative to county in which community is contained average/low\n",
    "-\tOST_WEST_KZ_O\t0.117534678\tNot from east germany\n",
    "-\tOST_WEST_KZ_W\t0.882465322\tfrom west germany\n",
    "-\tPRAEGENDE_JUGENDJAHRE_DECADE\t66.37129697\tDecade 60/70\n",
    "-\tPRAEGENDE_JUGENDJAHRE_MOVEMENT\t0.614420573\tMovement Avantgarde\n",
    "-\tCAMEO_INTL_2015_WEALTH\t2.597711018\tComfortable Households\n",
    "-\tCAMEO_INTL_2015_LIFE_STAGE\t3.595597601\tOlder Families &  Mature Couples/Families With School Age Children\n"
   ]
  },
  {
   "cell_type": "code",
   "execution_count": 80,
   "metadata": {
    "scrolled": false
   },
   "outputs": [],
   "source": [
    "# What kinds of people are part of a cluster that is underrepresented in the\n",
    "# customer data compared to the general population?\n",
    "\n",
    "# Calculate centroid for cluster #10(this cluster has 15% representation in the \n",
    "# population data but less than 5% representation in the customer data)\n",
    "center_dict_10 = create_center_dict(10)"
   ]
  },
  {
   "cell_type": "markdown",
   "metadata": {},
   "source": [
    "-\tALTERSKATEGORIE_GROB\t1.631263908\tage < 30 years old/30 - 45 years old\n",
    "-\tANREDE_KZ\t2.006875639\tgender female\n",
    "-\tFINANZ_MINIMALIST\t1.72653559\tlow financial interest very high/high\n",
    "-\tFINANZ_SPARER\t4.067882833\tmoney-saver low\n",
    "-\tFINANZ_VORSORGER\t2.199319085\tbe prepared high\n",
    "-\tFINANZ_ANLEGER\t4.141112044\tinvestor low\n",
    "-\tFINANZ_UNAUFFAELLIGER\t3.756023151\tinconspicuous average/low\n",
    "-\tFINANZ_HAUSBAUER\t3.587397327\thome ownership average/low\n",
    "-\tGREEN_AVANTGARDE\t0.127167866\tnot a member of green avantgarde\n",
    "-\tHEALTH_TYP\t2.214626179\tsanitary affine  \n",
    "-\tRETOURTYP_BK_S\t2.655915968\tdemanding Heavy-Returner/incentive-receptive Normal-Returner\n",
    "-\tSEMIO_SOZ\t2.970047132\tsocially-minded high affinity\n",
    "-\tSEMIO_FAM\t3.773792231\tfamily-minded high affinity/average affinity\n",
    "-\tSEMIO_REL\t5.362076132\treligious low affinity\n",
    "-\tSEMIO_MAT\t4.936684881\tmaterialistic low affinity\n",
    "-\tSEMIO_VERT\t2.286321171\tdreamful very high affinity\n",
    "-\tSEMIO_LUST\t2.827716111\tsensual-minded high affinity\n",
    "-\tSEMIO_ERL\t4.120311155\tevent-oriented average affinity\n",
    "-\tSEMIO_KULT\t4.214922044\tcultural-minded average affinity\n",
    "-\tSEMIO_RAT\t6.450145353\trational very low affinity/lowest affinity\n",
    "-\tSEMIO_KRIT\t5.457251907\tcritical-minded low affinity/very low affinity\n",
    "-\tSEMIO_DOM\t6.29692797\tdominant-minded very low affinity\n",
    "-\tSEMIO_KAEM\t5.877945948\tcombative attitude low affinity/very low affinity\n",
    "-\tSEMIO_PFLICHT\t6.173448268\tdutiful very low affinity\n",
    "-\tSEMIO_TRADV\t6.259928064\ttradional-minded very low affinity\n",
    "-\tSOHO_KZ\t0.008432122\tno small office/home office\n",
    "-\tANZ_PERSONEN\t1.708493147\t1/2 adults in household\n",
    "-\tANZ_TITEL\t0.002001289\t0 professional academic title holders in household\n",
    "-\tHH_EINKOMMEN_SCORE\t4.913337487\tlower income\n",
    "-\tW_KEIT_KIND_HH\t5.556542593\tLikelihood of children in household unlikely/very unlikely\n",
    "-\tWOHNDAUER_2008\t7.407000481\tlength of residence 6-7 years/7-10 years\n",
    "-\tANZ_HAUSHALTE_AKTIV\t9.425577505\t9/10 households in the building\n",
    "-\tANZ_HH_TITEL\t0.110827149\t0 professional academic title holders in building\n",
    "-\tKONSUMNAEHE\t2.848778544\tbuilding is located in a 500 x 500m grid cell that includes at least one RA1-consumption cell\n",
    "-\tMIN_GEBAEUDEJAHR\t1992.527475\tyear building was mentioned in the database\n",
    "-\tKBA05_ANTG1\t1.292729259\tlower share of 1-2 family homes/average share of 1-2 family homes\n",
    "-\tKBA05_ANTG2\t1.360049739\tlower share of 3-5 family homes/average share of 3-5 family homes\n",
    "-\tKBA05_ANTG3\t0.72125291\tno 6-10 family homes/lower share of 6-10 family homes\n",
    "-\tKBA05_ANTG4\t0.344672496\tno 10+ family homes/lower share of 10+ family homes\n",
    "-\tKBA05_GBZ\t2.998731112\t5-16 buildings\n",
    "-\tBALLRAUM\t3.992232072\tDistance to nearest urban center 30 -  40 km\n",
    "-\tEWDICHTE\t4.152715726\t150 - 319 households per km^2\n",
    "-\tINNENSTADT\t4.349498393\t5 - 10 km to city center/10 - 20 km to city center\n",
    "-\tGEBAEUDETYP_RASTER\t3.677129997\t mixed cell with middle business share/ mixed cell with low business share\n",
    "-\tKKK\t2.860338402\taverage/high\n",
    "-\tMOBI_REGIO\t2.7500006\tmiddle movement/high movement\n",
    "-\tONLINE_AFFINITAET\t3.448314298\thigh/very high\n",
    "-\tREGIOTYP\t4.59713041\tNeighborhood middle class/lower middle class\n",
    "-\tKBA13_ANZAHL_PKW\t601.7155165\t601 cars in the PLZ8 region\n",
    "-\tPLZ8_ANTG1\t2.14174601\taverage share of 1-2 family homes\n",
    "-\tPLZ8_ANTG2\t2.889117656\thigh share of 3-5 family homes/average share of 3-5 family homes\n",
    "-\tPLZ8_ANTG3\t1.715436476\taverage share of 6-10 family homes/lower share of 6-10 family homes\n",
    "-\tPLZ8_ANTG4\t0.778851724\tlower share of 10+ family homes/no 10+ family homes\n",
    "-\tPLZ8_HHZ\t3.643896708\t600-849 households/300-599 households\n",
    "-\tPLZ8_GBZ\t3.297044452\t130-299 buildings\n",
    "-\tARBEIT\t3.255039484\tShare of unemployment in community average\n",
    "-\tORTSGR_KLS9\t5.577375716\tSize of community 20,001 to  50,000 inhabitants/50,001 to 100,000 inhabitants\n",
    "-\tRELAT_AB\t3.157032947\tShare of unemployment relative to county in which community is contained average\n",
    "-\tOST_WEST_KZ_O\t0.215990617\tNot from east germany\n",
    "-\tOST_WEST_KZ_W\t0.784009383\tfrom west germany\n",
    "-\tPRAEGENDE_JUGENDJAHRE_DECADE\t86.08376904\tDecade 80/90\n",
    "-\tPRAEGENDE_JUGENDJAHRE_MOVEMENT\t0.139258233\tMovement Mainstream\n",
    "-\tCAMEO_INTL_2015_WEALTH\t3.700968134\tComfortable Households/Less Affluent Households\n",
    "-\tCAMEO_INTL_2015_LIFE_STAGE\t2.847298771\tFamilies With School Age Children/Young Couples With Children\n"
   ]
  },
  {
   "cell_type": "markdown",
   "metadata": {},
   "source": [
    "### Discussion 3.3: Compare Customer Data to Demographics Data\n",
    "\n",
    "Based on the clustering analysis, we can say that:\n",
    "- Relatively popular:\n",
    "We can see that this population is represented by cluster #11. This cluster represents people(males) born in the 60's 70's(from 30 to 60 years old), originally from west germany. Wealth: comfortable households, life stage: older families & mature couples. They own their own house and have interest in finance and investing. They are conservative/traditional and dreamful affinity is low.\n",
    "- Relatively unpopular:\n",
    "We can see that this population is represented by cluster #10. This cluster represents people(females) born in the 80's 90's(less than 45 years old), originally from west germany. Wealth: less affluent households, life stage: families with achool age children. They don't own their own house and don't have interest in finance/investing. They are not religious/traditional and dreamful affinity is very-high. "
   ]
  },
  {
   "cell_type": "markdown",
   "metadata": {},
   "source": [
    "> Congratulations on making it this far in the project! Before you finish, make sure to check through the entire notebook from top to bottom to make sure that your analysis follows a logical flow and all of your findings are documented in **Discussion** cells. Once you've checked over all of your work, you should export the notebook as an HTML document to submit for evaluation. You can do this from the menu, navigating to **File -> Download as -> HTML (.html)**. You will submit both that document and this notebook for your project submission."
   ]
  }
 ],
 "metadata": {
  "kernelspec": {
   "display_name": "Python 3",
   "language": "python",
   "name": "python3"
  },
  "language_info": {
   "codemirror_mode": {
    "name": "ipython",
    "version": 3
   },
   "file_extension": ".py",
   "mimetype": "text/x-python",
   "name": "python",
   "nbconvert_exporter": "python",
   "pygments_lexer": "ipython3",
   "version": "3.6.3"
  }
 },
 "nbformat": 4,
 "nbformat_minor": 2
}
